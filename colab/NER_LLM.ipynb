{
  "cells": [
    {
      "cell_type": "markdown",
      "metadata": {
        "id": "view-in-github",
        "colab_type": "text"
      },
      "source": [
        "<a href=\"https://colab.research.google.com/github/slava-ugolnikov/KG_practice_2025/blob/main/colab/NER_LLM.ipynb\" target=\"_parent\"><img src=\"https://colab.research.google.com/assets/colab-badge.svg\" alt=\"Open In Colab\"/></a>"
      ]
    },
    {
      "cell_type": "markdown",
      "metadata": {
        "id": "KUwPfVGk3WKS"
      },
      "source": [
        "# NER: LLM approach"
      ]
    },
    {
      "cell_type": "code",
      "execution_count": 1,
      "metadata": {
        "colab": {
          "base_uri": "https://localhost:8080/"
        },
        "id": "NGWsaaiWak5d",
        "outputId": "e2e23cd7-c30b-49c4-e727-b5669ab612f8"
      },
      "outputs": [
        {
          "output_type": "stream",
          "name": "stdout",
          "text": [
            "Requirement already satisfied: openai==0.28 in /usr/local/lib/python3.11/dist-packages (0.28.0)\n",
            "Requirement already satisfied: requests>=2.20 in /usr/local/lib/python3.11/dist-packages (from openai==0.28) (2.32.3)\n",
            "Requirement already satisfied: tqdm in /usr/local/lib/python3.11/dist-packages (from openai==0.28) (4.67.1)\n",
            "Requirement already satisfied: aiohttp in /usr/local/lib/python3.11/dist-packages (from openai==0.28) (3.11.15)\n",
            "Requirement already satisfied: charset-normalizer<4,>=2 in /usr/local/lib/python3.11/dist-packages (from requests>=2.20->openai==0.28) (3.4.1)\n",
            "Requirement already satisfied: idna<4,>=2.5 in /usr/local/lib/python3.11/dist-packages (from requests>=2.20->openai==0.28) (3.10)\n",
            "Requirement already satisfied: urllib3<3,>=1.21.1 in /usr/local/lib/python3.11/dist-packages (from requests>=2.20->openai==0.28) (2.4.0)\n",
            "Requirement already satisfied: certifi>=2017.4.17 in /usr/local/lib/python3.11/dist-packages (from requests>=2.20->openai==0.28) (2025.4.26)\n",
            "Requirement already satisfied: aiohappyeyeballs>=2.3.0 in /usr/local/lib/python3.11/dist-packages (from aiohttp->openai==0.28) (2.6.1)\n",
            "Requirement already satisfied: aiosignal>=1.1.2 in /usr/local/lib/python3.11/dist-packages (from aiohttp->openai==0.28) (1.3.2)\n",
            "Requirement already satisfied: attrs>=17.3.0 in /usr/local/lib/python3.11/dist-packages (from aiohttp->openai==0.28) (25.3.0)\n",
            "Requirement already satisfied: frozenlist>=1.1.1 in /usr/local/lib/python3.11/dist-packages (from aiohttp->openai==0.28) (1.6.0)\n",
            "Requirement already satisfied: multidict<7.0,>=4.5 in /usr/local/lib/python3.11/dist-packages (from aiohttp->openai==0.28) (6.4.3)\n",
            "Requirement already satisfied: propcache>=0.2.0 in /usr/local/lib/python3.11/dist-packages (from aiohttp->openai==0.28) (0.3.1)\n",
            "Requirement already satisfied: yarl<2.0,>=1.17.0 in /usr/local/lib/python3.11/dist-packages (from aiohttp->openai==0.28) (1.20.0)\n"
          ]
        }
      ],
      "source": [
        "!pip install openai==0.28"
      ]
    },
    {
      "cell_type": "code",
      "execution_count": 2,
      "metadata": {
        "colab": {
          "base_uri": "https://localhost:8080/"
        },
        "id": "UzUgfiXBxTuR",
        "outputId": "ac6b69b2-f4b2-4f35-ddc1-d81be712f77a"
      },
      "outputs": [
        {
          "output_type": "stream",
          "name": "stdout",
          "text": [
            "Requirement already satisfied: opendatasets in /usr/local/lib/python3.11/dist-packages (0.1.22)\n",
            "Requirement already satisfied: tqdm in /usr/local/lib/python3.11/dist-packages (from opendatasets) (4.67.1)\n",
            "Requirement already satisfied: kaggle in /usr/local/lib/python3.11/dist-packages (from opendatasets) (1.7.4.2)\n",
            "Requirement already satisfied: click in /usr/local/lib/python3.11/dist-packages (from opendatasets) (8.1.8)\n",
            "Requirement already satisfied: bleach in /usr/local/lib/python3.11/dist-packages (from kaggle->opendatasets) (6.2.0)\n",
            "Requirement already satisfied: certifi>=14.05.14 in /usr/local/lib/python3.11/dist-packages (from kaggle->opendatasets) (2025.4.26)\n",
            "Requirement already satisfied: charset-normalizer in /usr/local/lib/python3.11/dist-packages (from kaggle->opendatasets) (3.4.1)\n",
            "Requirement already satisfied: idna in /usr/local/lib/python3.11/dist-packages (from kaggle->opendatasets) (3.10)\n",
            "Requirement already satisfied: protobuf in /usr/local/lib/python3.11/dist-packages (from kaggle->opendatasets) (5.29.4)\n",
            "Requirement already satisfied: python-dateutil>=2.5.3 in /usr/local/lib/python3.11/dist-packages (from kaggle->opendatasets) (2.9.0.post0)\n",
            "Requirement already satisfied: python-slugify in /usr/local/lib/python3.11/dist-packages (from kaggle->opendatasets) (8.0.4)\n",
            "Requirement already satisfied: requests in /usr/local/lib/python3.11/dist-packages (from kaggle->opendatasets) (2.32.3)\n",
            "Requirement already satisfied: setuptools>=21.0.0 in /usr/local/lib/python3.11/dist-packages (from kaggle->opendatasets) (75.2.0)\n",
            "Requirement already satisfied: six>=1.10 in /usr/local/lib/python3.11/dist-packages (from kaggle->opendatasets) (1.17.0)\n",
            "Requirement already satisfied: text-unidecode in /usr/local/lib/python3.11/dist-packages (from kaggle->opendatasets) (1.3)\n",
            "Requirement already satisfied: urllib3>=1.15.1 in /usr/local/lib/python3.11/dist-packages (from kaggle->opendatasets) (2.4.0)\n",
            "Requirement already satisfied: webencodings in /usr/local/lib/python3.11/dist-packages (from kaggle->opendatasets) (0.5.1)\n"
          ]
        }
      ],
      "source": [
        "!pip install opendatasets"
      ]
    },
    {
      "cell_type": "code",
      "execution_count": 3,
      "metadata": {
        "colab": {
          "base_uri": "https://localhost:8080/"
        },
        "id": "881ynyjqu939",
        "outputId": "da09c4db-0125-4210-87ce-3df57ad37f88"
      },
      "outputs": [
        {
          "output_type": "stream",
          "name": "stdout",
          "text": [
            "Requirement already satisfied: svgling in /usr/local/lib/python3.11/dist-packages (0.5.0)\n",
            "Requirement already satisfied: svgwrite in /usr/local/lib/python3.11/dist-packages (from svgling) (1.4.3)\n"
          ]
        }
      ],
      "source": [
        "!pip install svgling"
      ]
    },
    {
      "cell_type": "code",
      "execution_count": 4,
      "metadata": {
        "colab": {
          "base_uri": "https://localhost:8080/"
        },
        "id": "vUHhypFSliCE",
        "outputId": "c32a2464-5255-45f3-d46e-d639b4aaa60b"
      },
      "outputs": [
        {
          "output_type": "stream",
          "name": "stderr",
          "text": [
            "[nltk_data] Downloading package punkt_tab to /root/nltk_data...\n",
            "[nltk_data]   Package punkt_tab is already up-to-date!\n",
            "[nltk_data] Downloading package averaged_perceptron_tagger_eng to\n",
            "[nltk_data]     /root/nltk_data...\n",
            "[nltk_data]   Package averaged_perceptron_tagger_eng is already up-to-\n",
            "[nltk_data]       date!\n",
            "[nltk_data] Downloading package maxent_ne_chunker_tab to\n",
            "[nltk_data]     /root/nltk_data...\n",
            "[nltk_data]   Package maxent_ne_chunker_tab is already up-to-date!\n",
            "[nltk_data] Downloading package words to /root/nltk_data...\n",
            "[nltk_data]   Package words is already up-to-date!\n"
          ]
        },
        {
          "output_type": "execute_result",
          "data": {
            "text/plain": [
              "True"
            ]
          },
          "metadata": {},
          "execution_count": 4
        }
      ],
      "source": [
        "import json\n",
        "import matplotlib.pyplot as plt\n",
        "import networkx as nx\n",
        "import nltk\n",
        "import opendatasets as od\n",
        "import openai\n",
        "import os\n",
        "import pandas as pd\n",
        "import re\n",
        "import requests\n",
        "import spacy\n",
        "import time\n",
        "\n",
        "from io import StringIO\n",
        "from itertools import combinations\n",
        "from sklearn.metrics import precision_score, recall_score, f1_score\n",
        "from spacy import displacy\n",
        "from spacy.training import offsets_to_biluo_tags, biluo_to_iob\n",
        "\n",
        "nltk.download('punkt_tab')\n",
        "nltk.download('averaged_perceptron_tagger_eng')\n",
        "nltk.download('maxent_ne_chunker_tab')\n",
        "nltk.download('words')"
      ]
    },
    {
      "cell_type": "markdown",
      "metadata": {
        "id": "gEyA8WZg9omi"
      },
      "source": [
        "## Dataset"
      ]
    },
    {
      "cell_type": "markdown",
      "metadata": {
        "id": "h9Y_FWqppzQx"
      },
      "source": [
        "CoNLL-2003 is a dataset designed for NER.\n",
        "\n",
        "The English data was taken from the Reuters Corpus. This corpus consists of Reuters news stories between August 1996 and August 1997."
      ]
    },
    {
      "cell_type": "code",
      "execution_count": 5,
      "metadata": {
        "colab": {
          "base_uri": "https://localhost:8080/"
        },
        "id": "ydIFCvbVxVef",
        "outputId": "1bb79a36-11b0-4e97-e1ac-80b14564ff26"
      },
      "outputs": [
        {
          "output_type": "stream",
          "name": "stdout",
          "text": [
            "Please provide your Kaggle credentials to download this dataset. Learn more: http://bit.ly/kaggle-creds\n",
            "Your Kaggle username: slavaugolnikov\n",
            "Your Kaggle Key: ··········\n",
            "Dataset URL: https://www.kaggle.com/datasets/alaakhaled/conll003-englishversion\n"
          ]
        }
      ],
      "source": [
        "od.download(\n",
        "    \"https://www.kaggle.com/datasets/alaakhaled/conll003-englishversion/data\")"
      ]
    },
    {
      "cell_type": "code",
      "execution_count": 6,
      "metadata": {
        "colab": {
          "base_uri": "https://localhost:8080/",
          "height": 35
        },
        "id": "sCxrq-6r9AIG",
        "outputId": "ec23f06b-b6de-4503-f402-1e6782c341e9"
      },
      "outputs": [
        {
          "output_type": "execute_result",
          "data": {
            "text/plain": [
              "'-DOCSTART- -X- -X- O\\n\\nEU NNP B-NP B-ORG\\nrejects VBZ B-VP O\\nGerman JJ B-NP B-MISC\\ncall NN I-NP O\\nto TO B-VP O\\nboycott VB I-VP O\\nBritish JJ B-NP B-MISC\\nlamb NN I-'"
            ],
            "application/vnd.google.colaboratory.intrinsic+json": {
              "type": "string"
            }
          },
          "metadata": {},
          "execution_count": 6
        }
      ],
      "source": [
        "conll = open('/content/conll003-englishversion/train.txt', 'r').read()\n",
        "conll[:160]"
      ]
    },
    {
      "cell_type": "markdown",
      "metadata": {
        "id": "rXAnpIRr9RJN"
      },
      "source": [
        "As we can see the dataset is presented in a text format so let us write the function that would convert dataset from text to a more convenient datatype (nested datatype)."
      ]
    },
    {
      "cell_type": "code",
      "execution_count": 7,
      "metadata": {
        "id": "QlSCyXKA45Kd"
      },
      "outputs": [],
      "source": [
        "def load_sentences(filepath):\n",
        "    final = []\n",
        "    sentences = []\n",
        "\n",
        "    with open(filepath, 'r') as f:\n",
        "        for line in f.readlines():\n",
        "            if line == '-DOCSTART- -X- -X- O\\n' or line == '\\n':\n",
        "                if len(sentences) > 0:\n",
        "                    final.append(sentences)\n",
        "                    sentences = []\n",
        "            else:\n",
        "                l = line.split(' ')\n",
        "                sentences.append((l[0], l[3].strip('\\n')))\n",
        "\n",
        "    return final"
      ]
    },
    {
      "cell_type": "markdown",
      "metadata": {
        "id": "SFyGZUnyImXp"
      },
      "source": [
        "The dataset is already divided into train, validation and test samples."
      ]
    },
    {
      "cell_type": "code",
      "execution_count": 8,
      "metadata": {
        "collapsed": true,
        "id": "OIG0Ik-35gam"
      },
      "outputs": [],
      "source": [
        "conll_train = load_sentences('/content/conll003-englishversion/train.txt')\n",
        "conll_test = load_sentences('/content/conll003-englishversion/test.txt')\n",
        "conll_valid = load_sentences('/content/conll003-englishversion/valid.txt')"
      ]
    },
    {
      "cell_type": "code",
      "execution_count": 10,
      "metadata": {
        "colab": {
          "base_uri": "https://localhost:8080/"
        },
        "id": "kzMm_n1BS1Y8",
        "outputId": "3b857f03-7d38-45f3-ba2d-af611700507b"
      },
      "outputs": [
        {
          "output_type": "execute_result",
          "data": {
            "text/plain": [
              "['B-LOC', 'B-MISC', 'B-ORG', 'B-PER', 'I-LOC', 'I-MISC', 'I-ORG', 'I-PER', 'O']"
            ]
          },
          "metadata": {},
          "execution_count": 10
        }
      ],
      "source": [
        "samples = conll_train + conll_test\n",
        "\n",
        "schema = sorted({tag for sentence in samples for _, tag in sentence})\n",
        "schema"
      ]
    },
    {
      "cell_type": "markdown",
      "metadata": {
        "id": "iyOAFgCxDpKZ"
      },
      "source": [
        "BIO-разметка\n",
        "* B - начало сущности\n",
        "* I - сущность внутри (вторая подряд именованная сущность, относящаяся к предыдущей)\n",
        "* O - не сущность\n",
        "------\n",
        "* LOC - место\n",
        "* ORG - организация\n",
        "* PER - человек\n",
        "* MISC - разное\n"
      ]
    },
    {
      "cell_type": "markdown",
      "metadata": {
        "id": "Vg-AaKt4_Szo"
      },
      "source": [
        "Let's look what's inside conll_train"
      ]
    },
    {
      "cell_type": "code",
      "execution_count": 11,
      "metadata": {
        "colab": {
          "base_uri": "https://localhost:8080/"
        },
        "id": "pzLm0BW_B2ag",
        "outputId": "5c0743e6-a094-4c4a-81d5-7bbeba3831d2"
      },
      "outputs": [
        {
          "output_type": "stream",
          "name": "stdout",
          "text": [
            "('EU', 'B-ORG') ('rejects', 'O') ('German', 'B-MISC') ('call', 'O') ('to', 'O') ('boycott', 'O') ('British', 'B-MISC') ('lamb', 'O') ('.', 'O')\n"
          ]
        }
      ],
      "source": [
        "print(*conll_train[0])"
      ]
    },
    {
      "cell_type": "markdown",
      "metadata": {
        "id": "0MbMmww-_Yna"
      },
      "source": [
        "Then we would apply this to make a DataFrame."
      ]
    },
    {
      "cell_type": "code",
      "execution_count": 12,
      "metadata": {
        "colab": {
          "base_uri": "https://localhost:8080/",
          "height": 990
        },
        "id": "5Q5X7ZFwnLOk",
        "outputId": "2772692f-e180-4563-be18-378a318db0c0"
      },
      "outputs": [
        {
          "output_type": "execute_result",
          "data": {
            "text/plain": [
              "    Sentence_ID          Entity  Label\n",
              "43            4         Germany  B-LOC\n",
              "44            4              's      O\n",
              "45            4  representative      O\n",
              "46            4              to      O\n",
              "47            4             the      O\n",
              "48            4        European  B-ORG\n",
              "49            4           Union  I-ORG\n",
              "50            4              's      O\n",
              "51            4      veterinary      O\n",
              "52            4       committee      O\n",
              "53            4          Werner  B-PER\n",
              "54            4       Zwingmann  I-PER\n",
              "55            4            said      O\n",
              "56            4              on      O\n",
              "57            4       Wednesday      O\n",
              "58            4       consumers      O\n",
              "59            4          should      O\n",
              "60            4             buy      O\n",
              "61            4       sheepmeat      O\n",
              "62            4            from      O\n",
              "63            4       countries      O\n",
              "64            4           other      O\n",
              "65            4            than      O\n",
              "66            4         Britain  B-LOC\n",
              "67            4           until      O\n",
              "68            4             the      O\n",
              "69            4      scientific      O\n",
              "70            4          advice      O\n",
              "71            4             was      O\n",
              "72            4         clearer      O"
            ],
            "text/html": [
              "\n",
              "  <div id=\"df-ef63da31-d27d-40f0-9304-8d6b86485f91\" class=\"colab-df-container\">\n",
              "    <div>\n",
              "<style scoped>\n",
              "    .dataframe tbody tr th:only-of-type {\n",
              "        vertical-align: middle;\n",
              "    }\n",
              "\n",
              "    .dataframe tbody tr th {\n",
              "        vertical-align: top;\n",
              "    }\n",
              "\n",
              "    .dataframe thead th {\n",
              "        text-align: right;\n",
              "    }\n",
              "</style>\n",
              "<table border=\"1\" class=\"dataframe\">\n",
              "  <thead>\n",
              "    <tr style=\"text-align: right;\">\n",
              "      <th></th>\n",
              "      <th>Sentence_ID</th>\n",
              "      <th>Entity</th>\n",
              "      <th>Label</th>\n",
              "    </tr>\n",
              "  </thead>\n",
              "  <tbody>\n",
              "    <tr>\n",
              "      <th>43</th>\n",
              "      <td>4</td>\n",
              "      <td>Germany</td>\n",
              "      <td>B-LOC</td>\n",
              "    </tr>\n",
              "    <tr>\n",
              "      <th>44</th>\n",
              "      <td>4</td>\n",
              "      <td>'s</td>\n",
              "      <td>O</td>\n",
              "    </tr>\n",
              "    <tr>\n",
              "      <th>45</th>\n",
              "      <td>4</td>\n",
              "      <td>representative</td>\n",
              "      <td>O</td>\n",
              "    </tr>\n",
              "    <tr>\n",
              "      <th>46</th>\n",
              "      <td>4</td>\n",
              "      <td>to</td>\n",
              "      <td>O</td>\n",
              "    </tr>\n",
              "    <tr>\n",
              "      <th>47</th>\n",
              "      <td>4</td>\n",
              "      <td>the</td>\n",
              "      <td>O</td>\n",
              "    </tr>\n",
              "    <tr>\n",
              "      <th>48</th>\n",
              "      <td>4</td>\n",
              "      <td>European</td>\n",
              "      <td>B-ORG</td>\n",
              "    </tr>\n",
              "    <tr>\n",
              "      <th>49</th>\n",
              "      <td>4</td>\n",
              "      <td>Union</td>\n",
              "      <td>I-ORG</td>\n",
              "    </tr>\n",
              "    <tr>\n",
              "      <th>50</th>\n",
              "      <td>4</td>\n",
              "      <td>'s</td>\n",
              "      <td>O</td>\n",
              "    </tr>\n",
              "    <tr>\n",
              "      <th>51</th>\n",
              "      <td>4</td>\n",
              "      <td>veterinary</td>\n",
              "      <td>O</td>\n",
              "    </tr>\n",
              "    <tr>\n",
              "      <th>52</th>\n",
              "      <td>4</td>\n",
              "      <td>committee</td>\n",
              "      <td>O</td>\n",
              "    </tr>\n",
              "    <tr>\n",
              "      <th>53</th>\n",
              "      <td>4</td>\n",
              "      <td>Werner</td>\n",
              "      <td>B-PER</td>\n",
              "    </tr>\n",
              "    <tr>\n",
              "      <th>54</th>\n",
              "      <td>4</td>\n",
              "      <td>Zwingmann</td>\n",
              "      <td>I-PER</td>\n",
              "    </tr>\n",
              "    <tr>\n",
              "      <th>55</th>\n",
              "      <td>4</td>\n",
              "      <td>said</td>\n",
              "      <td>O</td>\n",
              "    </tr>\n",
              "    <tr>\n",
              "      <th>56</th>\n",
              "      <td>4</td>\n",
              "      <td>on</td>\n",
              "      <td>O</td>\n",
              "    </tr>\n",
              "    <tr>\n",
              "      <th>57</th>\n",
              "      <td>4</td>\n",
              "      <td>Wednesday</td>\n",
              "      <td>O</td>\n",
              "    </tr>\n",
              "    <tr>\n",
              "      <th>58</th>\n",
              "      <td>4</td>\n",
              "      <td>consumers</td>\n",
              "      <td>O</td>\n",
              "    </tr>\n",
              "    <tr>\n",
              "      <th>59</th>\n",
              "      <td>4</td>\n",
              "      <td>should</td>\n",
              "      <td>O</td>\n",
              "    </tr>\n",
              "    <tr>\n",
              "      <th>60</th>\n",
              "      <td>4</td>\n",
              "      <td>buy</td>\n",
              "      <td>O</td>\n",
              "    </tr>\n",
              "    <tr>\n",
              "      <th>61</th>\n",
              "      <td>4</td>\n",
              "      <td>sheepmeat</td>\n",
              "      <td>O</td>\n",
              "    </tr>\n",
              "    <tr>\n",
              "      <th>62</th>\n",
              "      <td>4</td>\n",
              "      <td>from</td>\n",
              "      <td>O</td>\n",
              "    </tr>\n",
              "    <tr>\n",
              "      <th>63</th>\n",
              "      <td>4</td>\n",
              "      <td>countries</td>\n",
              "      <td>O</td>\n",
              "    </tr>\n",
              "    <tr>\n",
              "      <th>64</th>\n",
              "      <td>4</td>\n",
              "      <td>other</td>\n",
              "      <td>O</td>\n",
              "    </tr>\n",
              "    <tr>\n",
              "      <th>65</th>\n",
              "      <td>4</td>\n",
              "      <td>than</td>\n",
              "      <td>O</td>\n",
              "    </tr>\n",
              "    <tr>\n",
              "      <th>66</th>\n",
              "      <td>4</td>\n",
              "      <td>Britain</td>\n",
              "      <td>B-LOC</td>\n",
              "    </tr>\n",
              "    <tr>\n",
              "      <th>67</th>\n",
              "      <td>4</td>\n",
              "      <td>until</td>\n",
              "      <td>O</td>\n",
              "    </tr>\n",
              "    <tr>\n",
              "      <th>68</th>\n",
              "      <td>4</td>\n",
              "      <td>the</td>\n",
              "      <td>O</td>\n",
              "    </tr>\n",
              "    <tr>\n",
              "      <th>69</th>\n",
              "      <td>4</td>\n",
              "      <td>scientific</td>\n",
              "      <td>O</td>\n",
              "    </tr>\n",
              "    <tr>\n",
              "      <th>70</th>\n",
              "      <td>4</td>\n",
              "      <td>advice</td>\n",
              "      <td>O</td>\n",
              "    </tr>\n",
              "    <tr>\n",
              "      <th>71</th>\n",
              "      <td>4</td>\n",
              "      <td>was</td>\n",
              "      <td>O</td>\n",
              "    </tr>\n",
              "    <tr>\n",
              "      <th>72</th>\n",
              "      <td>4</td>\n",
              "      <td>clearer</td>\n",
              "      <td>O</td>\n",
              "    </tr>\n",
              "  </tbody>\n",
              "</table>\n",
              "</div>\n",
              "    <div class=\"colab-df-buttons\">\n",
              "\n",
              "  <div class=\"colab-df-container\">\n",
              "    <button class=\"colab-df-convert\" onclick=\"convertToInteractive('df-ef63da31-d27d-40f0-9304-8d6b86485f91')\"\n",
              "            title=\"Convert this dataframe to an interactive table.\"\n",
              "            style=\"display:none;\">\n",
              "\n",
              "  <svg xmlns=\"http://www.w3.org/2000/svg\" height=\"24px\" viewBox=\"0 -960 960 960\">\n",
              "    <path d=\"M120-120v-720h720v720H120Zm60-500h600v-160H180v160Zm220 220h160v-160H400v160Zm0 220h160v-160H400v160ZM180-400h160v-160H180v160Zm440 0h160v-160H620v160ZM180-180h160v-160H180v160Zm440 0h160v-160H620v160Z\"/>\n",
              "  </svg>\n",
              "    </button>\n",
              "\n",
              "  <style>\n",
              "    .colab-df-container {\n",
              "      display:flex;\n",
              "      gap: 12px;\n",
              "    }\n",
              "\n",
              "    .colab-df-convert {\n",
              "      background-color: #E8F0FE;\n",
              "      border: none;\n",
              "      border-radius: 50%;\n",
              "      cursor: pointer;\n",
              "      display: none;\n",
              "      fill: #1967D2;\n",
              "      height: 32px;\n",
              "      padding: 0 0 0 0;\n",
              "      width: 32px;\n",
              "    }\n",
              "\n",
              "    .colab-df-convert:hover {\n",
              "      background-color: #E2EBFA;\n",
              "      box-shadow: 0px 1px 2px rgba(60, 64, 67, 0.3), 0px 1px 3px 1px rgba(60, 64, 67, 0.15);\n",
              "      fill: #174EA6;\n",
              "    }\n",
              "\n",
              "    .colab-df-buttons div {\n",
              "      margin-bottom: 4px;\n",
              "    }\n",
              "\n",
              "    [theme=dark] .colab-df-convert {\n",
              "      background-color: #3B4455;\n",
              "      fill: #D2E3FC;\n",
              "    }\n",
              "\n",
              "    [theme=dark] .colab-df-convert:hover {\n",
              "      background-color: #434B5C;\n",
              "      box-shadow: 0px 1px 3px 1px rgba(0, 0, 0, 0.15);\n",
              "      filter: drop-shadow(0px 1px 2px rgba(0, 0, 0, 0.3));\n",
              "      fill: #FFFFFF;\n",
              "    }\n",
              "  </style>\n",
              "\n",
              "    <script>\n",
              "      const buttonEl =\n",
              "        document.querySelector('#df-ef63da31-d27d-40f0-9304-8d6b86485f91 button.colab-df-convert');\n",
              "      buttonEl.style.display =\n",
              "        google.colab.kernel.accessAllowed ? 'block' : 'none';\n",
              "\n",
              "      async function convertToInteractive(key) {\n",
              "        const element = document.querySelector('#df-ef63da31-d27d-40f0-9304-8d6b86485f91');\n",
              "        const dataTable =\n",
              "          await google.colab.kernel.invokeFunction('convertToInteractive',\n",
              "                                                    [key], {});\n",
              "        if (!dataTable) return;\n",
              "\n",
              "        const docLinkHtml = 'Like what you see? Visit the ' +\n",
              "          '<a target=\"_blank\" href=https://colab.research.google.com/notebooks/data_table.ipynb>data table notebook</a>'\n",
              "          + ' to learn more about interactive tables.';\n",
              "        element.innerHTML = '';\n",
              "        dataTable['output_type'] = 'display_data';\n",
              "        await google.colab.output.renderOutput(dataTable, element);\n",
              "        const docLink = document.createElement('div');\n",
              "        docLink.innerHTML = docLinkHtml;\n",
              "        element.appendChild(docLink);\n",
              "      }\n",
              "    </script>\n",
              "  </div>\n",
              "\n",
              "\n",
              "    <div id=\"df-a93b43c9-2a58-4efa-826b-174ec5b72328\">\n",
              "      <button class=\"colab-df-quickchart\" onclick=\"quickchart('df-a93b43c9-2a58-4efa-826b-174ec5b72328')\"\n",
              "                title=\"Suggest charts\"\n",
              "                style=\"display:none;\">\n",
              "\n",
              "<svg xmlns=\"http://www.w3.org/2000/svg\" height=\"24px\"viewBox=\"0 0 24 24\"\n",
              "     width=\"24px\">\n",
              "    <g>\n",
              "        <path d=\"M19 3H5c-1.1 0-2 .9-2 2v14c0 1.1.9 2 2 2h14c1.1 0 2-.9 2-2V5c0-1.1-.9-2-2-2zM9 17H7v-7h2v7zm4 0h-2V7h2v10zm4 0h-2v-4h2v4z\"/>\n",
              "    </g>\n",
              "</svg>\n",
              "      </button>\n",
              "\n",
              "<style>\n",
              "  .colab-df-quickchart {\n",
              "      --bg-color: #E8F0FE;\n",
              "      --fill-color: #1967D2;\n",
              "      --hover-bg-color: #E2EBFA;\n",
              "      --hover-fill-color: #174EA6;\n",
              "      --disabled-fill-color: #AAA;\n",
              "      --disabled-bg-color: #DDD;\n",
              "  }\n",
              "\n",
              "  [theme=dark] .colab-df-quickchart {\n",
              "      --bg-color: #3B4455;\n",
              "      --fill-color: #D2E3FC;\n",
              "      --hover-bg-color: #434B5C;\n",
              "      --hover-fill-color: #FFFFFF;\n",
              "      --disabled-bg-color: #3B4455;\n",
              "      --disabled-fill-color: #666;\n",
              "  }\n",
              "\n",
              "  .colab-df-quickchart {\n",
              "    background-color: var(--bg-color);\n",
              "    border: none;\n",
              "    border-radius: 50%;\n",
              "    cursor: pointer;\n",
              "    display: none;\n",
              "    fill: var(--fill-color);\n",
              "    height: 32px;\n",
              "    padding: 0;\n",
              "    width: 32px;\n",
              "  }\n",
              "\n",
              "  .colab-df-quickchart:hover {\n",
              "    background-color: var(--hover-bg-color);\n",
              "    box-shadow: 0 1px 2px rgba(60, 64, 67, 0.3), 0 1px 3px 1px rgba(60, 64, 67, 0.15);\n",
              "    fill: var(--button-hover-fill-color);\n",
              "  }\n",
              "\n",
              "  .colab-df-quickchart-complete:disabled,\n",
              "  .colab-df-quickchart-complete:disabled:hover {\n",
              "    background-color: var(--disabled-bg-color);\n",
              "    fill: var(--disabled-fill-color);\n",
              "    box-shadow: none;\n",
              "  }\n",
              "\n",
              "  .colab-df-spinner {\n",
              "    border: 2px solid var(--fill-color);\n",
              "    border-color: transparent;\n",
              "    border-bottom-color: var(--fill-color);\n",
              "    animation:\n",
              "      spin 1s steps(1) infinite;\n",
              "  }\n",
              "\n",
              "  @keyframes spin {\n",
              "    0% {\n",
              "      border-color: transparent;\n",
              "      border-bottom-color: var(--fill-color);\n",
              "      border-left-color: var(--fill-color);\n",
              "    }\n",
              "    20% {\n",
              "      border-color: transparent;\n",
              "      border-left-color: var(--fill-color);\n",
              "      border-top-color: var(--fill-color);\n",
              "    }\n",
              "    30% {\n",
              "      border-color: transparent;\n",
              "      border-left-color: var(--fill-color);\n",
              "      border-top-color: var(--fill-color);\n",
              "      border-right-color: var(--fill-color);\n",
              "    }\n",
              "    40% {\n",
              "      border-color: transparent;\n",
              "      border-right-color: var(--fill-color);\n",
              "      border-top-color: var(--fill-color);\n",
              "    }\n",
              "    60% {\n",
              "      border-color: transparent;\n",
              "      border-right-color: var(--fill-color);\n",
              "    }\n",
              "    80% {\n",
              "      border-color: transparent;\n",
              "      border-right-color: var(--fill-color);\n",
              "      border-bottom-color: var(--fill-color);\n",
              "    }\n",
              "    90% {\n",
              "      border-color: transparent;\n",
              "      border-bottom-color: var(--fill-color);\n",
              "    }\n",
              "  }\n",
              "</style>\n",
              "\n",
              "      <script>\n",
              "        async function quickchart(key) {\n",
              "          const quickchartButtonEl =\n",
              "            document.querySelector('#' + key + ' button');\n",
              "          quickchartButtonEl.disabled = true;  // To prevent multiple clicks.\n",
              "          quickchartButtonEl.classList.add('colab-df-spinner');\n",
              "          try {\n",
              "            const charts = await google.colab.kernel.invokeFunction(\n",
              "                'suggestCharts', [key], {});\n",
              "          } catch (error) {\n",
              "            console.error('Error during call to suggestCharts:', error);\n",
              "          }\n",
              "          quickchartButtonEl.classList.remove('colab-df-spinner');\n",
              "          quickchartButtonEl.classList.add('colab-df-quickchart-complete');\n",
              "        }\n",
              "        (() => {\n",
              "          let quickchartButtonEl =\n",
              "            document.querySelector('#df-a93b43c9-2a58-4efa-826b-174ec5b72328 button');\n",
              "          quickchartButtonEl.style.display =\n",
              "            google.colab.kernel.accessAllowed ? 'block' : 'none';\n",
              "        })();\n",
              "      </script>\n",
              "    </div>\n",
              "\n",
              "    </div>\n",
              "  </div>\n"
            ],
            "application/vnd.google.colaboratory.intrinsic+json": {
              "type": "dataframe",
              "summary": "{\n  \"name\": \"df_conll\",\n  \"rows\": 30,\n  \"fields\": [\n    {\n      \"column\": \"Sentence_ID\",\n      \"properties\": {\n        \"dtype\": \"number\",\n        \"std\": 0,\n        \"min\": 4,\n        \"max\": 4,\n        \"num_unique_values\": 1,\n        \"samples\": [\n          4\n        ],\n        \"semantic_type\": \"\",\n        \"description\": \"\"\n      }\n    },\n    {\n      \"column\": \"Entity\",\n      \"properties\": {\n        \"dtype\": \"string\",\n        \"num_unique_values\": 28,\n        \"samples\": [\n          \"Werner\"\n        ],\n        \"semantic_type\": \"\",\n        \"description\": \"\"\n      }\n    },\n    {\n      \"column\": \"Label\",\n      \"properties\": {\n        \"dtype\": \"category\",\n        \"num_unique_values\": 6,\n        \"samples\": [\n          \"B-LOC\"\n        ],\n        \"semantic_type\": \"\",\n        \"description\": \"\"\n      }\n    }\n  ]\n}"
            }
          },
          "metadata": {},
          "execution_count": 12
        }
      ],
      "source": [
        "rows = []\n",
        "\n",
        "for i, sentence in enumerate(conll_train):\n",
        "    for word, label in sentence:\n",
        "        rows.append({\"Sentence_ID\": i, \"Entity\": word, \"Label\": label})\n",
        "\n",
        "df_conll = pd.DataFrame(rows)\n",
        "df_conll.iloc[43:73]"
      ]
    },
    {
      "cell_type": "code",
      "execution_count": 13,
      "metadata": {
        "colab": {
          "base_uri": "https://localhost:8080/",
          "height": 677
        },
        "id": "Ds634ID30DJI",
        "outputId": "33500ed7-bdf0-410b-dca0-117a158ef798"
      },
      "outputs": [
        {
          "output_type": "execute_result",
          "data": {
            "text/plain": [
              "    Sentence_ID      Entity   Label\n",
              "0             0          EU   B-ORG\n",
              "1             0     rejects       O\n",
              "2             0      German  B-MISC\n",
              "3             0        call       O\n",
              "4             0          to       O\n",
              "5             0     boycott       O\n",
              "6             0     British  B-MISC\n",
              "7             0        lamb       O\n",
              "8             0           .       O\n",
              "9             1       Peter   B-PER\n",
              "10            1   Blackburn   I-PER\n",
              "11            2    BRUSSELS   B-LOC\n",
              "12            2  1996-08-22       O\n",
              "13            3         The       O\n",
              "14            3    European   B-ORG\n",
              "15            3  Commission   I-ORG\n",
              "16            3        said       O\n",
              "17            3          on       O\n",
              "18            3    Thursday       O\n",
              "19            3          it       O"
            ],
            "text/html": [
              "\n",
              "  <div id=\"df-a6245b14-2d19-4132-b56f-5c25867c15f2\" class=\"colab-df-container\">\n",
              "    <div>\n",
              "<style scoped>\n",
              "    .dataframe tbody tr th:only-of-type {\n",
              "        vertical-align: middle;\n",
              "    }\n",
              "\n",
              "    .dataframe tbody tr th {\n",
              "        vertical-align: top;\n",
              "    }\n",
              "\n",
              "    .dataframe thead th {\n",
              "        text-align: right;\n",
              "    }\n",
              "</style>\n",
              "<table border=\"1\" class=\"dataframe\">\n",
              "  <thead>\n",
              "    <tr style=\"text-align: right;\">\n",
              "      <th></th>\n",
              "      <th>Sentence_ID</th>\n",
              "      <th>Entity</th>\n",
              "      <th>Label</th>\n",
              "    </tr>\n",
              "  </thead>\n",
              "  <tbody>\n",
              "    <tr>\n",
              "      <th>0</th>\n",
              "      <td>0</td>\n",
              "      <td>EU</td>\n",
              "      <td>B-ORG</td>\n",
              "    </tr>\n",
              "    <tr>\n",
              "      <th>1</th>\n",
              "      <td>0</td>\n",
              "      <td>rejects</td>\n",
              "      <td>O</td>\n",
              "    </tr>\n",
              "    <tr>\n",
              "      <th>2</th>\n",
              "      <td>0</td>\n",
              "      <td>German</td>\n",
              "      <td>B-MISC</td>\n",
              "    </tr>\n",
              "    <tr>\n",
              "      <th>3</th>\n",
              "      <td>0</td>\n",
              "      <td>call</td>\n",
              "      <td>O</td>\n",
              "    </tr>\n",
              "    <tr>\n",
              "      <th>4</th>\n",
              "      <td>0</td>\n",
              "      <td>to</td>\n",
              "      <td>O</td>\n",
              "    </tr>\n",
              "    <tr>\n",
              "      <th>5</th>\n",
              "      <td>0</td>\n",
              "      <td>boycott</td>\n",
              "      <td>O</td>\n",
              "    </tr>\n",
              "    <tr>\n",
              "      <th>6</th>\n",
              "      <td>0</td>\n",
              "      <td>British</td>\n",
              "      <td>B-MISC</td>\n",
              "    </tr>\n",
              "    <tr>\n",
              "      <th>7</th>\n",
              "      <td>0</td>\n",
              "      <td>lamb</td>\n",
              "      <td>O</td>\n",
              "    </tr>\n",
              "    <tr>\n",
              "      <th>8</th>\n",
              "      <td>0</td>\n",
              "      <td>.</td>\n",
              "      <td>O</td>\n",
              "    </tr>\n",
              "    <tr>\n",
              "      <th>9</th>\n",
              "      <td>1</td>\n",
              "      <td>Peter</td>\n",
              "      <td>B-PER</td>\n",
              "    </tr>\n",
              "    <tr>\n",
              "      <th>10</th>\n",
              "      <td>1</td>\n",
              "      <td>Blackburn</td>\n",
              "      <td>I-PER</td>\n",
              "    </tr>\n",
              "    <tr>\n",
              "      <th>11</th>\n",
              "      <td>2</td>\n",
              "      <td>BRUSSELS</td>\n",
              "      <td>B-LOC</td>\n",
              "    </tr>\n",
              "    <tr>\n",
              "      <th>12</th>\n",
              "      <td>2</td>\n",
              "      <td>1996-08-22</td>\n",
              "      <td>O</td>\n",
              "    </tr>\n",
              "    <tr>\n",
              "      <th>13</th>\n",
              "      <td>3</td>\n",
              "      <td>The</td>\n",
              "      <td>O</td>\n",
              "    </tr>\n",
              "    <tr>\n",
              "      <th>14</th>\n",
              "      <td>3</td>\n",
              "      <td>European</td>\n",
              "      <td>B-ORG</td>\n",
              "    </tr>\n",
              "    <tr>\n",
              "      <th>15</th>\n",
              "      <td>3</td>\n",
              "      <td>Commission</td>\n",
              "      <td>I-ORG</td>\n",
              "    </tr>\n",
              "    <tr>\n",
              "      <th>16</th>\n",
              "      <td>3</td>\n",
              "      <td>said</td>\n",
              "      <td>O</td>\n",
              "    </tr>\n",
              "    <tr>\n",
              "      <th>17</th>\n",
              "      <td>3</td>\n",
              "      <td>on</td>\n",
              "      <td>O</td>\n",
              "    </tr>\n",
              "    <tr>\n",
              "      <th>18</th>\n",
              "      <td>3</td>\n",
              "      <td>Thursday</td>\n",
              "      <td>O</td>\n",
              "    </tr>\n",
              "    <tr>\n",
              "      <th>19</th>\n",
              "      <td>3</td>\n",
              "      <td>it</td>\n",
              "      <td>O</td>\n",
              "    </tr>\n",
              "  </tbody>\n",
              "</table>\n",
              "</div>\n",
              "    <div class=\"colab-df-buttons\">\n",
              "\n",
              "  <div class=\"colab-df-container\">\n",
              "    <button class=\"colab-df-convert\" onclick=\"convertToInteractive('df-a6245b14-2d19-4132-b56f-5c25867c15f2')\"\n",
              "            title=\"Convert this dataframe to an interactive table.\"\n",
              "            style=\"display:none;\">\n",
              "\n",
              "  <svg xmlns=\"http://www.w3.org/2000/svg\" height=\"24px\" viewBox=\"0 -960 960 960\">\n",
              "    <path d=\"M120-120v-720h720v720H120Zm60-500h600v-160H180v160Zm220 220h160v-160H400v160Zm0 220h160v-160H400v160ZM180-400h160v-160H180v160Zm440 0h160v-160H620v160ZM180-180h160v-160H180v160Zm440 0h160v-160H620v160Z\"/>\n",
              "  </svg>\n",
              "    </button>\n",
              "\n",
              "  <style>\n",
              "    .colab-df-container {\n",
              "      display:flex;\n",
              "      gap: 12px;\n",
              "    }\n",
              "\n",
              "    .colab-df-convert {\n",
              "      background-color: #E8F0FE;\n",
              "      border: none;\n",
              "      border-radius: 50%;\n",
              "      cursor: pointer;\n",
              "      display: none;\n",
              "      fill: #1967D2;\n",
              "      height: 32px;\n",
              "      padding: 0 0 0 0;\n",
              "      width: 32px;\n",
              "    }\n",
              "\n",
              "    .colab-df-convert:hover {\n",
              "      background-color: #E2EBFA;\n",
              "      box-shadow: 0px 1px 2px rgba(60, 64, 67, 0.3), 0px 1px 3px 1px rgba(60, 64, 67, 0.15);\n",
              "      fill: #174EA6;\n",
              "    }\n",
              "\n",
              "    .colab-df-buttons div {\n",
              "      margin-bottom: 4px;\n",
              "    }\n",
              "\n",
              "    [theme=dark] .colab-df-convert {\n",
              "      background-color: #3B4455;\n",
              "      fill: #D2E3FC;\n",
              "    }\n",
              "\n",
              "    [theme=dark] .colab-df-convert:hover {\n",
              "      background-color: #434B5C;\n",
              "      box-shadow: 0px 1px 3px 1px rgba(0, 0, 0, 0.15);\n",
              "      filter: drop-shadow(0px 1px 2px rgba(0, 0, 0, 0.3));\n",
              "      fill: #FFFFFF;\n",
              "    }\n",
              "  </style>\n",
              "\n",
              "    <script>\n",
              "      const buttonEl =\n",
              "        document.querySelector('#df-a6245b14-2d19-4132-b56f-5c25867c15f2 button.colab-df-convert');\n",
              "      buttonEl.style.display =\n",
              "        google.colab.kernel.accessAllowed ? 'block' : 'none';\n",
              "\n",
              "      async function convertToInteractive(key) {\n",
              "        const element = document.querySelector('#df-a6245b14-2d19-4132-b56f-5c25867c15f2');\n",
              "        const dataTable =\n",
              "          await google.colab.kernel.invokeFunction('convertToInteractive',\n",
              "                                                    [key], {});\n",
              "        if (!dataTable) return;\n",
              "\n",
              "        const docLinkHtml = 'Like what you see? Visit the ' +\n",
              "          '<a target=\"_blank\" href=https://colab.research.google.com/notebooks/data_table.ipynb>data table notebook</a>'\n",
              "          + ' to learn more about interactive tables.';\n",
              "        element.innerHTML = '';\n",
              "        dataTable['output_type'] = 'display_data';\n",
              "        await google.colab.output.renderOutput(dataTable, element);\n",
              "        const docLink = document.createElement('div');\n",
              "        docLink.innerHTML = docLinkHtml;\n",
              "        element.appendChild(docLink);\n",
              "      }\n",
              "    </script>\n",
              "  </div>\n",
              "\n",
              "\n",
              "    <div id=\"df-a0dc0476-5934-47c7-abf7-c33337cf4efe\">\n",
              "      <button class=\"colab-df-quickchart\" onclick=\"quickchart('df-a0dc0476-5934-47c7-abf7-c33337cf4efe')\"\n",
              "                title=\"Suggest charts\"\n",
              "                style=\"display:none;\">\n",
              "\n",
              "<svg xmlns=\"http://www.w3.org/2000/svg\" height=\"24px\"viewBox=\"0 0 24 24\"\n",
              "     width=\"24px\">\n",
              "    <g>\n",
              "        <path d=\"M19 3H5c-1.1 0-2 .9-2 2v14c0 1.1.9 2 2 2h14c1.1 0 2-.9 2-2V5c0-1.1-.9-2-2-2zM9 17H7v-7h2v7zm4 0h-2V7h2v10zm4 0h-2v-4h2v4z\"/>\n",
              "    </g>\n",
              "</svg>\n",
              "      </button>\n",
              "\n",
              "<style>\n",
              "  .colab-df-quickchart {\n",
              "      --bg-color: #E8F0FE;\n",
              "      --fill-color: #1967D2;\n",
              "      --hover-bg-color: #E2EBFA;\n",
              "      --hover-fill-color: #174EA6;\n",
              "      --disabled-fill-color: #AAA;\n",
              "      --disabled-bg-color: #DDD;\n",
              "  }\n",
              "\n",
              "  [theme=dark] .colab-df-quickchart {\n",
              "      --bg-color: #3B4455;\n",
              "      --fill-color: #D2E3FC;\n",
              "      --hover-bg-color: #434B5C;\n",
              "      --hover-fill-color: #FFFFFF;\n",
              "      --disabled-bg-color: #3B4455;\n",
              "      --disabled-fill-color: #666;\n",
              "  }\n",
              "\n",
              "  .colab-df-quickchart {\n",
              "    background-color: var(--bg-color);\n",
              "    border: none;\n",
              "    border-radius: 50%;\n",
              "    cursor: pointer;\n",
              "    display: none;\n",
              "    fill: var(--fill-color);\n",
              "    height: 32px;\n",
              "    padding: 0;\n",
              "    width: 32px;\n",
              "  }\n",
              "\n",
              "  .colab-df-quickchart:hover {\n",
              "    background-color: var(--hover-bg-color);\n",
              "    box-shadow: 0 1px 2px rgba(60, 64, 67, 0.3), 0 1px 3px 1px rgba(60, 64, 67, 0.15);\n",
              "    fill: var(--button-hover-fill-color);\n",
              "  }\n",
              "\n",
              "  .colab-df-quickchart-complete:disabled,\n",
              "  .colab-df-quickchart-complete:disabled:hover {\n",
              "    background-color: var(--disabled-bg-color);\n",
              "    fill: var(--disabled-fill-color);\n",
              "    box-shadow: none;\n",
              "  }\n",
              "\n",
              "  .colab-df-spinner {\n",
              "    border: 2px solid var(--fill-color);\n",
              "    border-color: transparent;\n",
              "    border-bottom-color: var(--fill-color);\n",
              "    animation:\n",
              "      spin 1s steps(1) infinite;\n",
              "  }\n",
              "\n",
              "  @keyframes spin {\n",
              "    0% {\n",
              "      border-color: transparent;\n",
              "      border-bottom-color: var(--fill-color);\n",
              "      border-left-color: var(--fill-color);\n",
              "    }\n",
              "    20% {\n",
              "      border-color: transparent;\n",
              "      border-left-color: var(--fill-color);\n",
              "      border-top-color: var(--fill-color);\n",
              "    }\n",
              "    30% {\n",
              "      border-color: transparent;\n",
              "      border-left-color: var(--fill-color);\n",
              "      border-top-color: var(--fill-color);\n",
              "      border-right-color: var(--fill-color);\n",
              "    }\n",
              "    40% {\n",
              "      border-color: transparent;\n",
              "      border-right-color: var(--fill-color);\n",
              "      border-top-color: var(--fill-color);\n",
              "    }\n",
              "    60% {\n",
              "      border-color: transparent;\n",
              "      border-right-color: var(--fill-color);\n",
              "    }\n",
              "    80% {\n",
              "      border-color: transparent;\n",
              "      border-right-color: var(--fill-color);\n",
              "      border-bottom-color: var(--fill-color);\n",
              "    }\n",
              "    90% {\n",
              "      border-color: transparent;\n",
              "      border-bottom-color: var(--fill-color);\n",
              "    }\n",
              "  }\n",
              "</style>\n",
              "\n",
              "      <script>\n",
              "        async function quickchart(key) {\n",
              "          const quickchartButtonEl =\n",
              "            document.querySelector('#' + key + ' button');\n",
              "          quickchartButtonEl.disabled = true;  // To prevent multiple clicks.\n",
              "          quickchartButtonEl.classList.add('colab-df-spinner');\n",
              "          try {\n",
              "            const charts = await google.colab.kernel.invokeFunction(\n",
              "                'suggestCharts', [key], {});\n",
              "          } catch (error) {\n",
              "            console.error('Error during call to suggestCharts:', error);\n",
              "          }\n",
              "          quickchartButtonEl.classList.remove('colab-df-spinner');\n",
              "          quickchartButtonEl.classList.add('colab-df-quickchart-complete');\n",
              "        }\n",
              "        (() => {\n",
              "          let quickchartButtonEl =\n",
              "            document.querySelector('#df-a0dc0476-5934-47c7-abf7-c33337cf4efe button');\n",
              "          quickchartButtonEl.style.display =\n",
              "            google.colab.kernel.accessAllowed ? 'block' : 'none';\n",
              "        })();\n",
              "      </script>\n",
              "    </div>\n",
              "\n",
              "    </div>\n",
              "  </div>\n"
            ],
            "application/vnd.google.colaboratory.intrinsic+json": {
              "type": "dataframe",
              "summary": "{\n  \"name\": \"df_conll\",\n  \"rows\": 20,\n  \"fields\": [\n    {\n      \"column\": \"Sentence_ID\",\n      \"properties\": {\n        \"dtype\": \"number\",\n        \"std\": 1,\n        \"min\": 0,\n        \"max\": 3,\n        \"num_unique_values\": 4,\n        \"samples\": [\n          1,\n          3,\n          0\n        ],\n        \"semantic_type\": \"\",\n        \"description\": \"\"\n      }\n    },\n    {\n      \"column\": \"Entity\",\n      \"properties\": {\n        \"dtype\": \"string\",\n        \"num_unique_values\": 20,\n        \"samples\": [\n          \"EU\",\n          \"on\",\n          \"Commission\"\n        ],\n        \"semantic_type\": \"\",\n        \"description\": \"\"\n      }\n    },\n    {\n      \"column\": \"Label\",\n      \"properties\": {\n        \"dtype\": \"category\",\n        \"num_unique_values\": 7,\n        \"samples\": [\n          \"B-ORG\",\n          \"O\",\n          \"B-LOC\"\n        ],\n        \"semantic_type\": \"\",\n        \"description\": \"\"\n      }\n    }\n  ]\n}"
            }
          },
          "metadata": {},
          "execution_count": 13
        }
      ],
      "source": [
        "df_conll.iloc[:20]"
      ]
    },
    {
      "cell_type": "markdown",
      "metadata": {
        "id": "YFr9MY6JW_Um"
      },
      "source": [
        "## Task description"
      ]
    },
    {
      "cell_type": "markdown",
      "metadata": {
        "id": "4r1ZwiBHXBxl"
      },
      "source": [
        "An objective of this work is to conduct NER task using NLTK and SpaCy. Firstly, the sentences would be tokenized, then tokens would be annotated by PoS and then we would be able to recognize NE.\n",
        "\n",
        "After that, a knowledge graph would be built to visualize relations between named entities."
      ]
    },
    {
      "cell_type": "markdown",
      "metadata": {
        "id": "Aw5teamdBONr"
      },
      "source": [
        "But for subsequent prompting annotation we need just text so let's derive it."
      ]
    },
    {
      "cell_type": "code",
      "execution_count": 14,
      "metadata": {
        "colab": {
          "base_uri": "https://localhost:8080/"
        },
        "id": "ywp6QFqxKboJ",
        "outputId": "1227e05a-0a7e-4c47-fd6f-06c5f9e34799"
      },
      "outputs": [
        {
          "output_type": "execute_result",
          "data": {
            "text/plain": [
              "{'Sentence_ID': 0, 'Entity': 'EU', 'Label': 'B-ORG'}"
            ]
          },
          "metadata": {},
          "execution_count": 14
        }
      ],
      "source": [
        "rows[0]"
      ]
    },
    {
      "cell_type": "code",
      "execution_count": 15,
      "metadata": {
        "colab": {
          "base_uri": "https://localhost:8080/"
        },
        "id": "W2OSW5rPns4h",
        "outputId": "c00ce5ec-03f3-49f6-ec46-618e80b26fdb"
      },
      "outputs": [
        {
          "output_type": "execute_result",
          "data": {
            "text/plain": [
              "[(1, 'EU rejects German call to boycott British lamb .'),\n",
              " (2, 'Peter Blackburn'),\n",
              " (3, 'BRUSSELS 1996-08-22'),\n",
              " (4,\n",
              "  'The European Commission said on Thursday it disagreed with German advice to consumers to shun British lamb until scientists determine whether mad cow disease can be transmitted to sheep .'),\n",
              " (5,\n",
              "  \"Germany 's representative to the European Union 's veterinary committee Werner Zwingmann said on Wednesday consumers should buy sheepmeat from countries other than Britain until the scientific advice was clearer .\")]"
            ]
          },
          "metadata": {},
          "execution_count": 15
        }
      ],
      "source": [
        "sentences1 = df_conll.groupby('Sentence_ID')['Entity'].apply(lambda x: ' '.join(x)).tolist()\n",
        "rows_id = [i for i in range(1, len(sentences1))]\n",
        "sentences = list(zip(rows_id, sentences1))\n",
        "sentences[:5]"
      ]
    },
    {
      "cell_type": "markdown",
      "metadata": {
        "id": "A6IuwF1KUoJ5"
      },
      "source": [
        "## LLM"
      ]
    },
    {
      "cell_type": "markdown",
      "metadata": {
        "id": "GTLkJy80UqmP"
      },
      "source": [
        "We would use meta-llama/Llama-3-8b-chat-hf model.\n",
        "\n",
        "Details: https://api.together.ai/models/meta-llama/Llama-3-8b-chat-hf\n",
        "\n",
        "Meta developed and released the Meta Llama 3 family of large language models (LLMs), a collection of pretrained and instruction tuned generative text models in 8 and 70B sizes. The Llama 3 instruction tuned models are optimized for dialogue use cases and outperform many of the available open source chat models on common industry benchmarks. Further, in developing these models, we took great care to optimize helpfulness and safety"
      ]
    },
    {
      "cell_type": "markdown",
      "metadata": {
        "id": "3YoADvyM03pz"
      },
      "source": [
        "Let's use my API key."
      ]
    },
    {
      "cell_type": "code",
      "execution_count": 16,
      "metadata": {
        "id": "xWijon_Oamza"
      },
      "outputs": [],
      "source": [
        "openai.api_key = \"<your key>\"\n",
        "openai.api_base = \"https://api.together.xyz/v1\""
      ]
    },
    {
      "cell_type": "markdown",
      "metadata": {
        "id": "wern4c4F07Ni"
      },
      "source": [
        "Then we'll write function that is a prompt."
      ]
    },
    {
      "cell_type": "code",
      "execution_count": 17,
      "metadata": {
        "id": "qG_0OsSpbts1"
      },
      "outputs": [],
      "source": [
        "def ner_llama(sentences, save_dir=\"ner_results\", batch_id=0):\n",
        "    os.makedirs(save_dir, exist_ok=True)\n",
        "\n",
        "    prompt = f\"\"\"You've got a task.\n",
        "\n",
        "    Find all named entities in the following sentence using the BIO tagging format:\n",
        "\n",
        "    - Allowed labels: \"B-LOC\", \"B-MISC\", \"B-ORG\", \"B-PER\", \"I-LOC\", \"I-MISC\", \"I-ORG\", \"I-PER\", \"O\".\n",
        "    - Where:\n",
        "      - B- = beginning of an entity\n",
        "      - I- = inside an entity\n",
        "      - O = outside any entity\n",
        "    - Entity types:\n",
        "      - PERS — person\n",
        "      - LOC — location\n",
        "      - ORG — organization\n",
        "      - MISC — miscellaneous\n",
        "    For example George Bush would be tagged like that: George (B-PER) Bush (I-PER) - single word per entity strictly.\n",
        "\n",
        "    Notice that you should label not only entites, you should use 'O' label for words that are not named entities (they can be any part of speech: verbs, prepositions) and include them please in your output.\n",
        "    Also it is very important that sentences that starts with different numbers are separated. To remember it, include the number of sentence in the output.\n",
        "\n",
        "    Example of an output:\n",
        "    Sentence 1: EU rejects German call to boycott British lamb;\n",
        "    Entities: ('EU', 'B-ORG') ('rejects', 'O') ('German', 'B-MISC') ('call', 'O') ('to', 'O') ('boycott', 'O') ('British', 'B-MISC') ('lamb', 'O') ('.', 'O').\n",
        "\n",
        "    Sentence: \"{sentences}\"\n",
        "    \"\"\"\n",
        "\n",
        "    for i, sentence in enumerate(sentences, 1):\n",
        "        prompt += f\"{i}. {sentence}\\n\"\n",
        "    prompt += \"\\nAnswer:\\n\"\n",
        "\n",
        "    response = openai.ChatCompletion.create(\n",
        "        model=\"meta-llama/Llama-3-8b-chat-hf\",\n",
        "        messages=[{\"role\": \"user\", \"content\": prompt}],\n",
        "        temperature=0,\n",
        "        max_tokens=2048\n",
        "    )\n",
        "\n",
        "    output = response[\"choices\"][0][\"message\"][\"content\"]\n",
        "\n",
        "    try:\n",
        "        parsed = json.loads(output)\n",
        "    except json.JSONDecodeError:\n",
        "        parsed = output\n",
        "\n",
        "    filename = os.path.join(save_dir, f\"batch_{batch_id}.json\")\n",
        "    with open(filename, \"w\", encoding=\"utf-8\") as f:\n",
        "        json.dump(parsed, f, ensure_ascii=False, indent=2)\n",
        "\n",
        "    return parsed"
      ]
    },
    {
      "cell_type": "markdown",
      "metadata": {
        "id": "GlpRn0hR1BZg"
      },
      "source": [
        "Let's implement our function with the batch size value of 20."
      ]
    },
    {
      "cell_type": "code",
      "execution_count": 21,
      "metadata": {
        "collapsed": true,
        "id": "mD_Wjae3N7NA"
      },
      "outputs": [],
      "source": [
        "batch_size = 20\n",
        "\n",
        "for i in range(0, len(sentences), batch_size):\n",
        "    batch = sentences[i:i+batch_size]\n",
        "    ner_llama(batch, save_dir=\"ner_results\", batch_id=i//batch_size)"
      ]
    },
    {
      "cell_type": "markdown",
      "metadata": {
        "id": "yzG1k5w61Jid"
      },
      "source": [
        "Let's see what we've got."
      ]
    },
    {
      "cell_type": "code",
      "execution_count": 23,
      "metadata": {
        "colab": {
          "base_uri": "https://localhost:8080/",
          "height": 122
        },
        "id": "IvZrON8zsxnn",
        "outputId": "78f10b30-f32a-4f3d-f2b3-93b1f0d5a800"
      },
      "outputs": [
        {
          "output_type": "execute_result",
          "data": {
            "text/plain": [
              "'Here is the output:\\n\\nSentence 1: (1, \\'EU rejects German call to boycott British lamb .\\')\\nEntities: (\\'EU\\', \\'B-ORG\\') (\\'rejects\\', \\'O\\') (\\'German\\', \\'B-MISC\\') (\\'call\\', \\'O\\') (\\'to\\', \\'O\\') (\\'boycott\\', \\'O\\') (\\'British\\', \\'B-MISC\\') (\\'lamb\\', \\'O\\') (\\'.\\', \\'O\\')\\n\\nSentence 2: (2, \\'Peter Blackburn\\')\\nEntities: (\\'Peter\\', \\'B-PER\\') (\\'Blackburn\\', \\'I-PER\\') (\\'.\\', \\'O\\')\\n\\nSentence 3: (3, \\'BRUSSELS 1996-08-22\\')\\nEntities: (\\'BRUSSELS\\', \\'B-LOC\\') (\\'1996-08-22\\', \\'O\\')\\n\\nSentence 4: (4, \\'The European Commission said on Thursday it disagreed with German advice to consumers to shun British lamb until scientists determine whether mad cow disease can be transmitted to sheep .\\')\\nEntities: (\\'The\\', \\'O\\') (\\'European\\', \\'B-ORG\\') (\\'Commission\\', \\'I-ORG\\') (\\'said\\', \\'O\\') (\\'on\\', \\'O\\') (\\'Thursday\\', \\'O\\') (\\'it\\', \\'O\\') (\\'disagreed\\', \\'O\\') (\\'with\\', \\'O\\') (\\'German\\', \\'B-MISC\\') (\\'advice\\', \\'O\\') (\\'to\\', \\'O\\') (\\'consumers\\', \\'O\\') (\\'to\\', \\'O\\') (\\'shun\\', \\'O\\') (\\'British\\', \\'B-MISC\\') (\\'lamb\\', \\'O\\') (\\'until\\', \\'O\\') (\\'scientists\\', \\'O\\') (\\'determine\\', \\'O\\') (\\'whether\\', \\'O\\') (\\'mad\\', \\'O\\') (\\'cow\\', \\'O\\') (\\'disease\\', \\'O\\') (\\'can\\', \\'O\\') (\\'be\\', \\'O\\') (\\'transmitted\\', \\'O\\') (\\'to\\', \\'O\\') (\\'sheep\\', \\'O\\') (\\'.\\', \\'O\\')\\n\\nSentence 5: (5, \"Germany \\'s representative to the European Union \\'s veterinary committee Werner Zwingmann said on Wednesday consumers should buy sheepmeat from countries other than Britain until the scientific advice was clearer .\")\\nEntities: (\\'Germany\\', \\'B-MISC\\') (\\'representative\\', \\'O\\') (\\'to\\', \\'O\\') (\\'the\\', \\'O\\') (\\'European\\', \\'B-ORG\\') (\\'Union\\', \\'I-ORG\\') (\\'\\\\\\'s\\', \\'O\\') (\\'veterinary\\', \\'O\\') (\\'committee\\', \\'O\\') (\\'Werner\\', \\'O\\') (\\'Zwingmann\\', \\'O\\') (\\'said\\', \\'O\\') (\\'on\\', \\'O\\') (\\'Wednesday\\', \\'O\\') (\\'consumers\\', \\'O\\') (\\'should\\', \\'O\\') (\\'buy\\', \\'O\\') (\\'sheepmeat\\', \\'O\\') (\\'from\\', \\'O\\') (\\'countries\\', \\'O\\') (\\'other\\', \\'O\\') (\\'than\\', \\'O\\') (\\'Britain\\', \\'B-MISC\\') (\\'until\\', \\'O\\') (\\'the\\', \\'O\\') (\\'scientific\\', \\'O\\') (\\'advice\\', \\'O\\') (\\'was\\', \\'O\\') (\\'clearer\\', \\'O\\') (\\'.\\', \\'O\\')\\n\\nSentence 6: (6, \\'\" We do n\\\\\\'t support any such recommendation because we do n\\\\\\'t see any grounds for it , \" the Commission \\\\\\'s chief spokesman Nikolaus van der Pas told a news briefing .\\')\\nEntities: (\\'We\\', \\'O\\') (\\'do\\', \\'O\\') (\\'n\\\\\\'t\\', \\'O\\') (\\'support\\', \\'O\\') (\\'any\\', \\'O\\') (\\'such\\', \\'O\\') (\\'recommendation\\', \\'O\\') (\\'because\\', \\'O\\') (\\'we\\', \\'O\\') (\\'do\\', \\'O\\') (\\'n\\\\\\'t\\', \\'O\\') (\\'see\\', \\'O\\') (\\'any\\', \\'O\\') (\\'grounds\\', \\'O\\') (\\'for\\', \\'O\\') (\\'it\\', \\'O\\') (\\'\"\\', \\'O\\') (\\'the\\', \\'O\\') (\\'Commission\\', \\'B-ORG\\') (\\'\\\\\\'s\\', \\'O\\') (\\'chief\\', \\'O\\') (\\'spokesman\\', \\'O\\') (\\'Nikolaus\\', \\'O\\') (\\'van\\', \\'O\\') (\\'der\\', \\'O\\') (\\'Pas\\', \\'O\\') (\\'told\\', \\'O\\') (\\'a\\', \\'O\\') (\\'news\\', \\'O\\') (\\'briefing\\', \\'O\\') (\\'.\\', \\'O\\')\\n\\nSentence 7: (7, \\'He said further scientific study was required and if it was found that action was needed it should be taken by the European Union .\\')\\nEntities: (\\'He\\', \\'O\\') (\\'said\\', \\'O\\') (\\'further\\', \\'O\\') (\\'scientific\\', \\'O\\') (\\'study\\', \\'O\\') (\\'was\\', \\'O\\') (\\'required\\', \\'O\\') (\\'and\\', \\'O\\') (\\'if\\', \\'O\\') (\\'it\\', \\'O\\') (\\'was\\', \\'O\\') (\\'found\\', \\'O\\') (\\'that\\', \\'O\\') (\\'action\\', \\'O\\') (\\'was\\', \\'O\\') (\\'needed\\', \\'O\\') (\\'it\\', \\'O\\') (\\'should\\', \\'O\\') (\\'be\\', \\'O\\') (\\'taken\\', \\'O\\') (\\'by\\', \\'O\\') (\\'the\\', \\'O\\') (\\'European\\', \\'B-ORG\\') (\\'Union\\', \\'I-ORG\\') (\\'.\\', \\'O\\')\\n\\nSentence 8: (8, \\'He said a proposal last month by EU Farm Commissioner Franz Fischler to ban sheep brains , spleens and spinal cords from the human and animal food chains was a highly specific and precautionary move to protect human health .\\')\\nEntities: (\\'He\\', \\'O\\') (\\'said\\', \\'O\\') (\\'a\\', \\'O\\') (\\'proposal\\', \\'O\\') (\\'last\\', \\'O\\') (\\'month\\', \\'O\\') (\\'by\\', \\'O\\') (\\'EU\\', \\'B-ORG\\') (\\'Farm\\', \\'O\\') (\\'Commissioner\\', \\'O\\') (\\'Franz\\', \\'O\\') (\\'Fischler\\', \\'O\\') (\\'to\\', \\'O\\') (\\'ban\\', \\'O\\') (\\'sheep\\', \\'O\\') (\\'brains\\', \\'O\\') (\\',\\', \\'O\\') (\\'spleens\\', \\'O\\') (\\',\\', \\'O\\') (\\'spinal\\', \\'O) (\\'cords\\', \\'O\\') (\\'from\\', \\'O\\') (\\'the\\', \\'O\\') (\\'human\\', \\'O) (\\'and\\', \\'O) (\\'animal\\', \\'O) (\\'food\\', \\'O) (\\'chains\\', \\'O) (\\'was\\', \\'O) (\\'a\\', \\'O) (\\'highly\\', \\'O) (\\'specific\\', \\'O) (\\'and\\', \\'O) (\\'precautionary\\', \\'O) (\\'move\\', \\'O) (\\'to\\', \\'O) (\\'protect\\', \\'O) (\\'human\\', \\'O) (\\'health\\', \\'O) (\\'.\\', \\'O\\')\\n\\nSentence 9: (9, \\'Fischler proposed EU-wide measures after reports from Britain and France that under laboratory conditions sheep could contract Bovine Spongiform Encephalopathy ( BSE ) -- mad cow disease .\\')\\nEntities: (\\'Fischler\\', \\'B-PER\\') (\\'proposed\\', \\'O\\') (\\'EU-wide\\', \\'O) (\\'measures\\', \\'O) (\\'after\\', \\'O) (\\'reports\\', \\'O) (\\'from\\', \\'O) (\\'Britain\\', \\'B-MISC) (\\'and\\', \\'O) (\\'France\\', \\'B-MISC) (\\'that\\', \\'O) (\\'under\\', \\'O) (\\'laboratory\\', \\'O) (\\'conditions\\', \\'O) (\\'sheep\\', \\'O) (\\'could\\', \\'O) (\\'contract\\', \\'O) (\\'Bovine\\', \\'O) (\\'Spongiform\\', \\'O) (\\'Encephalopathy\\', \\'O) (\\'(\\', \\'O) (\\'BSE\\', \\'O) (\\'--\\', \\'O) (\\'mad\\', \\'O) (\\'cow\\', \\'O) (\\'disease\\', \\'O) (\\'.\\', \\'O\\')\\n\\nSentence 10: (10, \"But Fischler agreed to review his proposal after the EU \\'s standing veterinary committee , mational animal health officials , questioned if such action was justified as there was only a slight risk to human health .\")\\nEntities: (\\'But\\', \\'O) (\\'Fischler\\', \\'B-PER) (\\'agreed\\', \\'O) (\\'to\\', \\'O) (\\'review\\', \\'O) (\\'his\\', \\'O) (\\'proposal\\', \\'O) (\\'after\\', \\'O) (\\'the\\', \\'O) (\\'EU\\', \\'B-ORG) (\\'\\\\\\'s\\', \\'O) (\\'standing\\', \\'O) (\\'veterinary\\', \\'O) (\\'committee\\', \\'O) (\\',\\', \\'O) (\\'mational\\', \\'O) (\\'animal\\', \\'O) (\\'health\\', \\'O) (\\'officials\\', \\'O) (\\',\\', \\'O) (\\'questioned\\', \\'O) (\\'if\\', \\'O) (\\'such\\', \\'O) (\\'action\\', \\'O) (\\'was\\', \\'O) (\\'justified\\', \\'O) (\\'as\\', \\'O) (\\'there\\', \\'O) (\\'was\\', \\'O) (\\'only\\', \\'O) (\\'a\\', \\'O) (\\'slight\\', \\'O) (\\'risk\\', \\'O) (\\'to\\', \\'O) (\\'human\\', \\'O) (\\'health\\', \\'O) (\\'.\\', \\'O\\')\\n\\nSentence 11: (11, \\'Spanish Farm Minister Loyola de Palacio had earlier accused Fischler at an EU farm ministers \\\\\\' meeting of causing unjustified alarm through \" dangerous generalisation . \"\\')\\nEntities: (\\'Spanish\\', \\'B-MISC) (\\'Farm\\', \\'O) (\\'Minister\\', \\'O) (\\'Loyola\\', \\'O) (\\'de\\', \\'O) (\\'Palacio\\', \\'O) (\\'had\\', \\'O) (\\'earlier\\', \\'O) (\\'accused\\', \\'O) (\\'Fischler\\', \\'B-PER) (\\'at\\', \\'O) (\\'an\\','"
            ],
            "application/vnd.google.colaboratory.intrinsic+json": {
              "type": "string"
            }
          },
          "metadata": {},
          "execution_count": 23
        }
      ],
      "source": [
        "with open(\"/content/drive/MyDrive/ner_prompting/batch_0.json\", \"r\", encoding=\"utf-8\") as f:\n",
        "    data = json.load(f)\n",
        "data"
      ]
    },
    {
      "cell_type": "markdown",
      "metadata": {
        "id": "0SOOkL-PRU4E"
      },
      "source": [
        "After that, we would concatenate all the texts into one."
      ]
    },
    {
      "cell_type": "code",
      "execution_count": 24,
      "metadata": {
        "id": "uzhAMya5RNrK"
      },
      "outputs": [],
      "source": [
        "folder_path = '/content/drive/MyDrive/ner_prompting/'\n",
        "\n",
        "json_files = [f for f in os.listdir(folder_path) if f.endswith('.json')]\n",
        "\n",
        "texts = []\n",
        "\n",
        "for file_name in json_files:\n",
        "    file_path = os.path.join(folder_path, file_name)\n",
        "    with open(file_path, 'r', encoding='utf-8') as f:\n",
        "        data = json.load(f)\n",
        "        text = json.dumps(data, ensure_ascii=False)\n",
        "        texts.append(text)"
      ]
    },
    {
      "cell_type": "markdown",
      "source": [
        "Let's check the last one dozen of texts."
      ],
      "metadata": {
        "id": "19cGOTiUxzVa"
      }
    },
    {
      "cell_type": "code",
      "execution_count": 25,
      "metadata": {
        "colab": {
          "base_uri": "https://localhost:8080/",
          "height": 122
        },
        "id": "8vLny5k-SqbS",
        "outputId": "d402d7a0-81be-4533-f0ec-53981df03d71"
      },
      "outputs": [
        {
          "output_type": "execute_result",
          "data": {
            "text/plain": [
              "'\"Here is the output:\\\\n\\\\nSentence 1: (6061, \\'- Foreign Minister Levy to visit Egypt soon .\\')\\\\nEntities: (\\'Foreign\\', \\'O\\') (\\'Minister\\', \\'B-PER\\') (\\'Levy\\', \\'I-PER\\') (\\'to\\', \\'O\\') (\\'visit\\', \\'O\\') (\\'Egypt\\', \\'B-LOC\\') (\\'soon\\', \\'O\\') (\\'.\\', \\'O\\')\\\\n\\\\nSentence 2: (6062, \\'MAARIV\\')\\\\nEntities: (\\'MAARIV\\', \\'B-MISC\\')\\\\n\\\\nSentence 3: (6063, \\'- Palestinian Authority has taken over education in East Jerusalem .\\')\\\\nEntities: (\\'Palestinian\\', \\'B-MISC\\') (\\'Authority\\', \\'B-ORG\\') (\\'East\\', \\'O\\') (\\'Jerusalem\\', \\'B-LOC\\') (\\'.\\', \\'O\\')\\\\n\\\\nSentence 4: (6064, \\'- Syrian armoured columns on the move in Lebanon .\\')\\\\nEntities: (\\'Syrian\\', \\'B-MISC\\') (\\'Lebanon\\', \\'B-LOC\\') (\\'.\\', \\'O\\')\\\\n\\\\nSentence 5: (6065, \\\\\"- Shimon Peres to Morocco , will stay at king \\'s private residence .\\\\\")\\\\nEntities: (\\'Shimon\\', \\'B-PER\\') (\\'Peres\\', \\'I-PER\\') (\\'to\\', \\'O\\') (\\'Morocco\\', \\'B-MISC\\') (\\'will\\', \\'O\\') (\\'stay\\', \\'O\\') (\\'at\\', \\'O\\') (\\'king\\', \\'O\\') (\\'private\\', \\'O\\') (\\'residence\\', \\'O\\') (\\'.\\', \\'O\\')\\\\n\\\\nSentence 6: (6066, \\'JERUSALEM POST\\')\\\\nEntities: (\\'JERUSALEM\\', \\'B-LOC\\') (\\'POST\\', \\'B-MISC\\')\\\\n\\\\nSentence 7: (6067, \\'- Palestinian Minister Erekat says Israel-PLO talks will begin by September 2 .\\')\\\\nEntities: (\\'Palestinian\\', \\'B-MISC\\') (\\'Minister\\', \\'B-PER\\') (\\'Erekat\\', \\'I-PER\\') (\\'says\\', \\'O\\') (\\'Israel-PLO\\', \\'B-ORG\\') (\\'talks\\', \\'O\\') (\\'will\\', \\'O\\') (\\'begin\\', \\'O\\') (\\'by\\', \\'O\\') (\\'September\\', \\'O\\') (\\'2\\', \\'O\\') (\\'.\\', \\'O\\')\\\\n\\\\nSentence 8: (6068, \\'- Prime minister names former general Avraham Tamir to staff after failing to establish national security council .\\')\\\\nEntities: (\\'Prime\\', \\'O\\') (\\'minister\\', \\'B-PER\\') (\\'names\\', \\'O\\') (\\'former\\', \\'O\\') (\\'general\\', \\'O\\') (\\'Avraham\\', \\'B-PER\\') (\\'Tamir\\', \\'I-PER\\') (\\'to\\', \\'O\\') (\\'staff\\', \\'O\\') (\\'after\\', \\'O\\') (\\'failing\\', \\'O\\') (\\'to\\', \\'O\\') (\\'establish\\', \\'O\\') (\\'national\\', \\'O\\') (\\'security\\', \\'O\\') (\\'council\\', \\'O\\') (\\'.\\', \\'O\\')\\\\n\\\\nSentence 9: (6069, \\'- Cabinet puts off decision on foreign workers .\\')\\\\nEntities: (\\'Cabinet\\', \\'B-ORG\\') (\\'puts\\', \\'O\\') (\\'off\\', \\'O\\') (\\'decision\\', \\'O\\') (\\'on\\', \\'O\\') (\\'foreign\\', \\'O\\') (\\'workers\\', \\'O\\') (\\'.\\', \\'O\\')\\\\n\\\\nSentence 10: (6070, \\'- Internal Security Minister Kahalani warns cabinet of increase in organised crime .\\')\\\\nEntities: (\\'Internal\\', \\'O\\') (\\'Security\\', \\'B-ORG\\') (\\'Minister\\', \\'B-PER\\') (\\'Kahalani\\', \\'I-PER\\') (\\'warns\\', \\'O\\') (\\'cabinet\\', \\'B-ORG\\') (\\'of\\', \\'O\\') (\\'increase\\', \\'O\\') (\\'in\\', \\'O\\') (\\'organised\\', \\'O\\') (\\'crime\\', \\'O\\') (\\'.\\', \\'O\\')\\\\n\\\\nSentence 11: (6071, \\'Voting begins in second round of Lebanese election .\\')\\\\nEntities: (\\'Voting\\', \\'O\\') (\\'begins\\', \\'O\\') (\\'in\\', \\'O\\') (\\'second\\', \\'O\\') (\\'round\\', \\'O\\') (\\'of\\', \\'O\\') (\\'Lebanese\\', \\'B-MISC\\') (\\'election\\', \\'O\\') (\\'.\\', \\'O\\')\\\\n\\\\nSentence 12: (6072, \\'TRIPOLI , Lebanon 1996-08-25\\')\\\\nEntities: (\\'TRIPOLI\\', \\'B-LOC\\') (\\'Lebanon\\', \\'B-LOC\\') (\\'1996-08-25\\', \\'O\\')\\\\n\\\\nSentence 13: (6073, \\'Voting began on Sunday in north Lebanon in the second round of parliamentary elections with 580,000 voters eligible to choose 28 members of the 128-member parliament .\\')\\\\nEntities: (\\'Voting\\', \\'O\\') (\\'began\\', \\'O\\') (\\'on\\', \\'O\\') (\\'Sunday\\', \\'O\\') (\\'in\\', \\'O\\') (\\'north\\', \\'O\\') (\\'Lebanon\\', \\'B-LOC\\') (\\'in\\', \\'O\\') (\\'the\\', \\'O\\') (\\'second\\', \\'O\\') (\\'round\\', \\'O\\') (\\'of\\', \\'O\\') (\\'parliamentary\\', \\'O\\') (\\'elections\\', \\'O\\') (\\'with\\', \\'O\\') (\\'580,000\\', \\'O\\') (\\'voters\\', \\'O\\') (\\'eligible\\', \\'O\\') (\\'to\\', \\'O\\') (\\'choose\\', \\'O\\') (\\'28\\', \\'O\\') (\\'members\\', \\'O\\') (\\'of\\', \\'O\\') (\\'the\\', \\'O\\') (\\'128-member\\', \\'O\\') (\\'parliament\\', \\'O\\') (\\'.\\', \\'O\\')\\\\n\\\\nSentence 14: (6074, \\'A thin trickle of voters began casting their ballots in this northern port city for the five rival lists of candidates as polling stations opened at 7 a.m. ( 0400 gmt ) .\\')\\\\nEntities: (\\'A\\', \\'O\\') (\\'thin\\', \\'O\\') (\\'trickle\\', \\'O\\') (\\'of\\', \\'O\\') (\\'voters\\', \\'O\\') (\\'began\\', \\'O\\') (\\'casting\\', \\'O\\') (\\'their\\', \\'O\\') (\\'ballots\\', \\'O\\') (\\'in\\', \\'O\\') (\\'this\\', \\'O\\') (\\'northern\\', \\'O\\') (\\'port\\', \\'O\\') (\\'city\\', \\'O\\') (\\'for\\', \\'O\\') (\\'the\\', \\'O\\') (\\'five\\', \\'O\\') (\\'rival\\', \\'O\\') (\\'lists\\', \\'O\\') (\\'of\\', \\'O\\') (\\'candidates\\', \\'O\\') (\\'as\\', \\'O\\') (\\'polling\\', \\'O\\') (\\'stations\\', \\'O\\') (\\'opened\\', \\'O\\') (\\'at\\', \\'O\\') (\\'7\\', \\'O\\') (\\'a.m.\\', \\'O\\') (\\'( 0400 gmt )\\', \\'O\\') (\\'.\\', \\'O\\')\\\\n\\\\nSentence 15: (6075, \\'Israeli president invites Arafat to home - paper .\\')\\\\nEntities: (\\'Israeli\\', \\'B-MISC\\') (\\'president\\', \\'B-PER\\') (\\'invites\\', \\'O\\') (\\'Arafat\\', \\'B-PER\\') (\\'to\\', \\'O\\') (\\'home\\', \\'O\\') (\\'- paper\\', \\'O\\') (\\'.\\', \\'O\\')\\\\n\\\\nSentence 16: (6076, \\'JERUSALEM 1996-08-25\\')\\\\nEntities: (\\'JERUSALEM\\', \\'B-LOC\\') (\\'1996-08-25\\', \\'O\\')\\\\n\\\\nSentence 17: (6077, \\\\\"Israeli President Ezer Weizman has invited Yasser Arafat to meet him at his private home , Israel \\'s biggest newspaper said on Sunday .\\\\\")\\\\nEntities: (\\'Israeli\\', \\'B-MISC\\') (\\'President\\', \\'B-PER\\') (\\'Ezer\\', \\'B-PER\\') (\\'Weizman\\', \\'I-PER\\') (\\'has\\', \\'O\\') (\\'invited\\', \\'O\\') (\\'Yasser\\', \\'B-PER\\') (\\'Arafat\\', \\'I-PER\\') (\\'to\\', \\'O\\') (\\'meet\\', \\'O\\') (\\'him\\', \\'O\\') (\\'at\\', \\'O\\') (\\'his\\', \\'O\\') (\\'private\\', \\'O\\') (\\'home\\', \\'O\\') (\\',\\', \\'O\\') (\\'Israel\\', \\'B-MISC\\') (\\\\\"\\'s\\\\\", \\'O\\') (\\'biggest\\', \\'O\\') (\\'newspaper\\', \\'B-MISC\\') (\\'said\\', \\'O\\') (\\'on\\', \\'O\\') (\\'Sunday\\', \\'O\\') (\\'.\\', \\'O\\')\\\\n\\\\nSentence 18: (6078, \\'The Yedioth Ahronoth daily reported that Prime Minister Benjamin Netanyahu , who has said he has no desire to hold talks with the Palestinian president , opposes the meeting due to be held this coming week .\\')\\\\nEntities: (\\'The\\', \\'O\\') (\\'Yedioth\\', \\'B-MISC\\') (\\'Ahronoth\\', \\'B-MISC\\') (\\'daily\\', \\'O\\') (\\'reported\\', \\'O\\') (\\'that\\', \\'O\\') (\\'Prime\\', \\'O\\') (\\'Minister\\', \\'B-PER\\') (\\'Benjamin\\', \\'B-PER\\') (\\'Netanyahu\\', \\'I-PER\\') (\\',\\', \\'O\\') (\\'who\\', \\'O\\') (\\'has\\', \\'O\\') (\\'said\\', \\'O\\') (\\'he\\', \\'O\\') (\\'has\\', \\'O\\') (\\'no\\', \\'O\\') (\\'desire\\', \\'O\\') (\\'to\\', \\'O\\') (\\'hold\\', \\'O\\') (\\'talks\\', \\'O\\') (\\'with\\', \\'O\\') (\\'the\\', \\'O\\') (\\'Palestinian\\', \\'B-MISC\\') (\\'president\\', \\'B-PER\\') (\\',\\', \\'O\\') (\\'opposes\\', \\'O\\') (\\'the\\', \\'O\\') (\\'meeting\\', \\'O\\') (\\'due\\', \\'O\\') (\\'to\\', \\'O\\') (\\'be\\', \\'O\\') (\\'held\\', \\'O\\') (\\'this\\', \\'O\\') (\\'coming\\', \\'O\\') (\\'week\\', \\'O\\') (\\'.\\', \\'O\\')\\\\n\\\\nSentence 19: (6079, \\'The newspaper said Weizman scheduled the meeting\"'"
            ],
            "application/vnd.google.colaboratory.intrinsic+json": {
              "type": "string"
            }
          },
          "metadata": {},
          "execution_count": 25
        }
      ],
      "source": [
        "texts[-1]"
      ]
    },
    {
      "cell_type": "markdown",
      "source": [
        "Let's proceed to creating a dictionary of sentences and their NE to further create a dataframe."
      ],
      "metadata": {
        "id": "yDUUt7LGx5m6"
      }
    },
    {
      "cell_type": "code",
      "source": [
        "pattern = r\"Entities: ((?:\\('.*?', '.*?'\\) ?)+)\"\n",
        "\n",
        "entity_dict = {}\n",
        "counter = 1\n",
        "\n",
        "for text in texts:\n",
        "    matches = re.findall(pattern, text)\n",
        "    for entities_raw in matches:\n",
        "        entities = re.findall(r\"\\('(.*?)', '(.*?)'\\)\", entities_raw)\n",
        "        named_entities = [(word, label) for word, label in entities]\n",
        "        entity_dict[counter] = named_entities\n",
        "        counter += 1"
      ],
      "metadata": {
        "id": "bLShLPm9qiv2"
      },
      "execution_count": 44,
      "outputs": []
    },
    {
      "cell_type": "code",
      "source": [
        "print(entity_dict[3241])"
      ],
      "metadata": {
        "colab": {
          "base_uri": "https://localhost:8080/"
        },
        "id": "TXMeIHdyr57u",
        "outputId": "f1c18fcb-ccf9-4677-ef6c-c8c26c5bfd0a"
      },
      "execution_count": 62,
      "outputs": [
        {
          "output_type": "stream",
          "name": "stdout",
          "text": [
            "[('Its', 'O'), ('workers', 'O'), ('are', 'O'), ('staging', 'O'), ('protests', 'O'), ('in', 'O'), ('the', 'O'), ('town', 'B-LOC'), ('s', 'I-LOC'), ('main', 'O'), ('square', 'O'), ('demanding', 'O'), ('June', 'O'), ('and', 'O'), ('July', 'O'), ('wages', 'O'), ('and', 'O'), ('last', 'O'), ('year', 'O'), (\"\\\\\\\\'s\", 'I-LOC'), ('holiday', 'O'), ('pay', 'O'), ('.', 'O')]\n"
          ]
        }
      ]
    },
    {
      "cell_type": "markdown",
      "source": [
        "Creating dataframe."
      ],
      "metadata": {
        "id": "EK4dSYxAyFU1"
      }
    },
    {
      "cell_type": "code",
      "source": [
        "rows = []\n",
        "\n",
        "for sentence_id, entities in entity_dict.items():\n",
        "    for entity, label in entities:\n",
        "        rows.append({\n",
        "            'Sentence_id': sentence_id,\n",
        "            'Entity': entity,\n",
        "            'Label': label\n",
        "        })\n",
        "\n",
        "df = pd.DataFrame(rows)"
      ],
      "metadata": {
        "id": "G9AIXocBxZJr"
      },
      "execution_count": 46,
      "outputs": []
    },
    {
      "cell_type": "code",
      "source": [
        "df"
      ],
      "metadata": {
        "colab": {
          "base_uri": "https://localhost:8080/",
          "height": 424
        },
        "id": "fQTqpiSUxlRw",
        "outputId": "781ddb59-31e1-4a22-d697-c0582f78fcd1"
      },
      "execution_count": 48,
      "outputs": [
        {
          "output_type": "execute_result",
          "data": {
            "text/plain": [
              "       Sentence_id         Entity  Label\n",
              "0                1        Clinton  B-PER\n",
              "1                1         Sunday      O\n",
              "2                1  West Virginia  B-LOC\n",
              "3                1       Kentucky  B-LOC\n",
              "4                1           Ohio  B-LOC\n",
              "...            ...            ...    ...\n",
              "87015        11216           held      O\n",
              "87016        11216           this      O\n",
              "87017        11216         coming      O\n",
              "87018        11216           week      O\n",
              "87019        11216              .      O\n",
              "\n",
              "[87020 rows x 3 columns]"
            ],
            "text/html": [
              "\n",
              "  <div id=\"df-31d5411b-ece4-44d2-b051-45e92c4264b2\" class=\"colab-df-container\">\n",
              "    <div>\n",
              "<style scoped>\n",
              "    .dataframe tbody tr th:only-of-type {\n",
              "        vertical-align: middle;\n",
              "    }\n",
              "\n",
              "    .dataframe tbody tr th {\n",
              "        vertical-align: top;\n",
              "    }\n",
              "\n",
              "    .dataframe thead th {\n",
              "        text-align: right;\n",
              "    }\n",
              "</style>\n",
              "<table border=\"1\" class=\"dataframe\">\n",
              "  <thead>\n",
              "    <tr style=\"text-align: right;\">\n",
              "      <th></th>\n",
              "      <th>Sentence_id</th>\n",
              "      <th>Entity</th>\n",
              "      <th>Label</th>\n",
              "    </tr>\n",
              "  </thead>\n",
              "  <tbody>\n",
              "    <tr>\n",
              "      <th>0</th>\n",
              "      <td>1</td>\n",
              "      <td>Clinton</td>\n",
              "      <td>B-PER</td>\n",
              "    </tr>\n",
              "    <tr>\n",
              "      <th>1</th>\n",
              "      <td>1</td>\n",
              "      <td>Sunday</td>\n",
              "      <td>O</td>\n",
              "    </tr>\n",
              "    <tr>\n",
              "      <th>2</th>\n",
              "      <td>1</td>\n",
              "      <td>West Virginia</td>\n",
              "      <td>B-LOC</td>\n",
              "    </tr>\n",
              "    <tr>\n",
              "      <th>3</th>\n",
              "      <td>1</td>\n",
              "      <td>Kentucky</td>\n",
              "      <td>B-LOC</td>\n",
              "    </tr>\n",
              "    <tr>\n",
              "      <th>4</th>\n",
              "      <td>1</td>\n",
              "      <td>Ohio</td>\n",
              "      <td>B-LOC</td>\n",
              "    </tr>\n",
              "    <tr>\n",
              "      <th>...</th>\n",
              "      <td>...</td>\n",
              "      <td>...</td>\n",
              "      <td>...</td>\n",
              "    </tr>\n",
              "    <tr>\n",
              "      <th>87015</th>\n",
              "      <td>11216</td>\n",
              "      <td>held</td>\n",
              "      <td>O</td>\n",
              "    </tr>\n",
              "    <tr>\n",
              "      <th>87016</th>\n",
              "      <td>11216</td>\n",
              "      <td>this</td>\n",
              "      <td>O</td>\n",
              "    </tr>\n",
              "    <tr>\n",
              "      <th>87017</th>\n",
              "      <td>11216</td>\n",
              "      <td>coming</td>\n",
              "      <td>O</td>\n",
              "    </tr>\n",
              "    <tr>\n",
              "      <th>87018</th>\n",
              "      <td>11216</td>\n",
              "      <td>week</td>\n",
              "      <td>O</td>\n",
              "    </tr>\n",
              "    <tr>\n",
              "      <th>87019</th>\n",
              "      <td>11216</td>\n",
              "      <td>.</td>\n",
              "      <td>O</td>\n",
              "    </tr>\n",
              "  </tbody>\n",
              "</table>\n",
              "<p>87020 rows × 3 columns</p>\n",
              "</div>\n",
              "    <div class=\"colab-df-buttons\">\n",
              "\n",
              "  <div class=\"colab-df-container\">\n",
              "    <button class=\"colab-df-convert\" onclick=\"convertToInteractive('df-31d5411b-ece4-44d2-b051-45e92c4264b2')\"\n",
              "            title=\"Convert this dataframe to an interactive table.\"\n",
              "            style=\"display:none;\">\n",
              "\n",
              "  <svg xmlns=\"http://www.w3.org/2000/svg\" height=\"24px\" viewBox=\"0 -960 960 960\">\n",
              "    <path d=\"M120-120v-720h720v720H120Zm60-500h600v-160H180v160Zm220 220h160v-160H400v160Zm0 220h160v-160H400v160ZM180-400h160v-160H180v160Zm440 0h160v-160H620v160ZM180-180h160v-160H180v160Zm440 0h160v-160H620v160Z\"/>\n",
              "  </svg>\n",
              "    </button>\n",
              "\n",
              "  <style>\n",
              "    .colab-df-container {\n",
              "      display:flex;\n",
              "      gap: 12px;\n",
              "    }\n",
              "\n",
              "    .colab-df-convert {\n",
              "      background-color: #E8F0FE;\n",
              "      border: none;\n",
              "      border-radius: 50%;\n",
              "      cursor: pointer;\n",
              "      display: none;\n",
              "      fill: #1967D2;\n",
              "      height: 32px;\n",
              "      padding: 0 0 0 0;\n",
              "      width: 32px;\n",
              "    }\n",
              "\n",
              "    .colab-df-convert:hover {\n",
              "      background-color: #E2EBFA;\n",
              "      box-shadow: 0px 1px 2px rgba(60, 64, 67, 0.3), 0px 1px 3px 1px rgba(60, 64, 67, 0.15);\n",
              "      fill: #174EA6;\n",
              "    }\n",
              "\n",
              "    .colab-df-buttons div {\n",
              "      margin-bottom: 4px;\n",
              "    }\n",
              "\n",
              "    [theme=dark] .colab-df-convert {\n",
              "      background-color: #3B4455;\n",
              "      fill: #D2E3FC;\n",
              "    }\n",
              "\n",
              "    [theme=dark] .colab-df-convert:hover {\n",
              "      background-color: #434B5C;\n",
              "      box-shadow: 0px 1px 3px 1px rgba(0, 0, 0, 0.15);\n",
              "      filter: drop-shadow(0px 1px 2px rgba(0, 0, 0, 0.3));\n",
              "      fill: #FFFFFF;\n",
              "    }\n",
              "  </style>\n",
              "\n",
              "    <script>\n",
              "      const buttonEl =\n",
              "        document.querySelector('#df-31d5411b-ece4-44d2-b051-45e92c4264b2 button.colab-df-convert');\n",
              "      buttonEl.style.display =\n",
              "        google.colab.kernel.accessAllowed ? 'block' : 'none';\n",
              "\n",
              "      async function convertToInteractive(key) {\n",
              "        const element = document.querySelector('#df-31d5411b-ece4-44d2-b051-45e92c4264b2');\n",
              "        const dataTable =\n",
              "          await google.colab.kernel.invokeFunction('convertToInteractive',\n",
              "                                                    [key], {});\n",
              "        if (!dataTable) return;\n",
              "\n",
              "        const docLinkHtml = 'Like what you see? Visit the ' +\n",
              "          '<a target=\"_blank\" href=https://colab.research.google.com/notebooks/data_table.ipynb>data table notebook</a>'\n",
              "          + ' to learn more about interactive tables.';\n",
              "        element.innerHTML = '';\n",
              "        dataTable['output_type'] = 'display_data';\n",
              "        await google.colab.output.renderOutput(dataTable, element);\n",
              "        const docLink = document.createElement('div');\n",
              "        docLink.innerHTML = docLinkHtml;\n",
              "        element.appendChild(docLink);\n",
              "      }\n",
              "    </script>\n",
              "  </div>\n",
              "\n",
              "\n",
              "    <div id=\"df-c5e4bbe3-ebf2-4cf6-8dc2-c4c7799114c4\">\n",
              "      <button class=\"colab-df-quickchart\" onclick=\"quickchart('df-c5e4bbe3-ebf2-4cf6-8dc2-c4c7799114c4')\"\n",
              "                title=\"Suggest charts\"\n",
              "                style=\"display:none;\">\n",
              "\n",
              "<svg xmlns=\"http://www.w3.org/2000/svg\" height=\"24px\"viewBox=\"0 0 24 24\"\n",
              "     width=\"24px\">\n",
              "    <g>\n",
              "        <path d=\"M19 3H5c-1.1 0-2 .9-2 2v14c0 1.1.9 2 2 2h14c1.1 0 2-.9 2-2V5c0-1.1-.9-2-2-2zM9 17H7v-7h2v7zm4 0h-2V7h2v10zm4 0h-2v-4h2v4z\"/>\n",
              "    </g>\n",
              "</svg>\n",
              "      </button>\n",
              "\n",
              "<style>\n",
              "  .colab-df-quickchart {\n",
              "      --bg-color: #E8F0FE;\n",
              "      --fill-color: #1967D2;\n",
              "      --hover-bg-color: #E2EBFA;\n",
              "      --hover-fill-color: #174EA6;\n",
              "      --disabled-fill-color: #AAA;\n",
              "      --disabled-bg-color: #DDD;\n",
              "  }\n",
              "\n",
              "  [theme=dark] .colab-df-quickchart {\n",
              "      --bg-color: #3B4455;\n",
              "      --fill-color: #D2E3FC;\n",
              "      --hover-bg-color: #434B5C;\n",
              "      --hover-fill-color: #FFFFFF;\n",
              "      --disabled-bg-color: #3B4455;\n",
              "      --disabled-fill-color: #666;\n",
              "  }\n",
              "\n",
              "  .colab-df-quickchart {\n",
              "    background-color: var(--bg-color);\n",
              "    border: none;\n",
              "    border-radius: 50%;\n",
              "    cursor: pointer;\n",
              "    display: none;\n",
              "    fill: var(--fill-color);\n",
              "    height: 32px;\n",
              "    padding: 0;\n",
              "    width: 32px;\n",
              "  }\n",
              "\n",
              "  .colab-df-quickchart:hover {\n",
              "    background-color: var(--hover-bg-color);\n",
              "    box-shadow: 0 1px 2px rgba(60, 64, 67, 0.3), 0 1px 3px 1px rgba(60, 64, 67, 0.15);\n",
              "    fill: var(--button-hover-fill-color);\n",
              "  }\n",
              "\n",
              "  .colab-df-quickchart-complete:disabled,\n",
              "  .colab-df-quickchart-complete:disabled:hover {\n",
              "    background-color: var(--disabled-bg-color);\n",
              "    fill: var(--disabled-fill-color);\n",
              "    box-shadow: none;\n",
              "  }\n",
              "\n",
              "  .colab-df-spinner {\n",
              "    border: 2px solid var(--fill-color);\n",
              "    border-color: transparent;\n",
              "    border-bottom-color: var(--fill-color);\n",
              "    animation:\n",
              "      spin 1s steps(1) infinite;\n",
              "  }\n",
              "\n",
              "  @keyframes spin {\n",
              "    0% {\n",
              "      border-color: transparent;\n",
              "      border-bottom-color: var(--fill-color);\n",
              "      border-left-color: var(--fill-color);\n",
              "    }\n",
              "    20% {\n",
              "      border-color: transparent;\n",
              "      border-left-color: var(--fill-color);\n",
              "      border-top-color: var(--fill-color);\n",
              "    }\n",
              "    30% {\n",
              "      border-color: transparent;\n",
              "      border-left-color: var(--fill-color);\n",
              "      border-top-color: var(--fill-color);\n",
              "      border-right-color: var(--fill-color);\n",
              "    }\n",
              "    40% {\n",
              "      border-color: transparent;\n",
              "      border-right-color: var(--fill-color);\n",
              "      border-top-color: var(--fill-color);\n",
              "    }\n",
              "    60% {\n",
              "      border-color: transparent;\n",
              "      border-right-color: var(--fill-color);\n",
              "    }\n",
              "    80% {\n",
              "      border-color: transparent;\n",
              "      border-right-color: var(--fill-color);\n",
              "      border-bottom-color: var(--fill-color);\n",
              "    }\n",
              "    90% {\n",
              "      border-color: transparent;\n",
              "      border-bottom-color: var(--fill-color);\n",
              "    }\n",
              "  }\n",
              "</style>\n",
              "\n",
              "      <script>\n",
              "        async function quickchart(key) {\n",
              "          const quickchartButtonEl =\n",
              "            document.querySelector('#' + key + ' button');\n",
              "          quickchartButtonEl.disabled = true;  // To prevent multiple clicks.\n",
              "          quickchartButtonEl.classList.add('colab-df-spinner');\n",
              "          try {\n",
              "            const charts = await google.colab.kernel.invokeFunction(\n",
              "                'suggestCharts', [key], {});\n",
              "          } catch (error) {\n",
              "            console.error('Error during call to suggestCharts:', error);\n",
              "          }\n",
              "          quickchartButtonEl.classList.remove('colab-df-spinner');\n",
              "          quickchartButtonEl.classList.add('colab-df-quickchart-complete');\n",
              "        }\n",
              "        (() => {\n",
              "          let quickchartButtonEl =\n",
              "            document.querySelector('#df-c5e4bbe3-ebf2-4cf6-8dc2-c4c7799114c4 button');\n",
              "          quickchartButtonEl.style.display =\n",
              "            google.colab.kernel.accessAllowed ? 'block' : 'none';\n",
              "        })();\n",
              "      </script>\n",
              "    </div>\n",
              "\n",
              "  <div id=\"id_9f4749da-a830-43b0-a2b4-da99d953d673\">\n",
              "    <style>\n",
              "      .colab-df-generate {\n",
              "        background-color: #E8F0FE;\n",
              "        border: none;\n",
              "        border-radius: 50%;\n",
              "        cursor: pointer;\n",
              "        display: none;\n",
              "        fill: #1967D2;\n",
              "        height: 32px;\n",
              "        padding: 0 0 0 0;\n",
              "        width: 32px;\n",
              "      }\n",
              "\n",
              "      .colab-df-generate:hover {\n",
              "        background-color: #E2EBFA;\n",
              "        box-shadow: 0px 1px 2px rgba(60, 64, 67, 0.3), 0px 1px 3px 1px rgba(60, 64, 67, 0.15);\n",
              "        fill: #174EA6;\n",
              "      }\n",
              "\n",
              "      [theme=dark] .colab-df-generate {\n",
              "        background-color: #3B4455;\n",
              "        fill: #D2E3FC;\n",
              "      }\n",
              "\n",
              "      [theme=dark] .colab-df-generate:hover {\n",
              "        background-color: #434B5C;\n",
              "        box-shadow: 0px 1px 3px 1px rgba(0, 0, 0, 0.15);\n",
              "        filter: drop-shadow(0px 1px 2px rgba(0, 0, 0, 0.3));\n",
              "        fill: #FFFFFF;\n",
              "      }\n",
              "    </style>\n",
              "    <button class=\"colab-df-generate\" onclick=\"generateWithVariable('df')\"\n",
              "            title=\"Generate code using this dataframe.\"\n",
              "            style=\"display:none;\">\n",
              "\n",
              "  <svg xmlns=\"http://www.w3.org/2000/svg\" height=\"24px\"viewBox=\"0 0 24 24\"\n",
              "       width=\"24px\">\n",
              "    <path d=\"M7,19H8.4L18.45,9,17,7.55,7,17.6ZM5,21V16.75L18.45,3.32a2,2,0,0,1,2.83,0l1.4,1.43a1.91,1.91,0,0,1,.58,1.4,1.91,1.91,0,0,1-.58,1.4L9.25,21ZM18.45,9,17,7.55Zm-12,3A5.31,5.31,0,0,0,4.9,8.1,5.31,5.31,0,0,0,1,6.5,5.31,5.31,0,0,0,4.9,4.9,5.31,5.31,0,0,0,6.5,1,5.31,5.31,0,0,0,8.1,4.9,5.31,5.31,0,0,0,12,6.5,5.46,5.46,0,0,0,6.5,12Z\"/>\n",
              "  </svg>\n",
              "    </button>\n",
              "    <script>\n",
              "      (() => {\n",
              "      const buttonEl =\n",
              "        document.querySelector('#id_9f4749da-a830-43b0-a2b4-da99d953d673 button.colab-df-generate');\n",
              "      buttonEl.style.display =\n",
              "        google.colab.kernel.accessAllowed ? 'block' : 'none';\n",
              "\n",
              "      buttonEl.onclick = () => {\n",
              "        google.colab.notebook.generateWithVariable('df');\n",
              "      }\n",
              "      })();\n",
              "    </script>\n",
              "  </div>\n",
              "\n",
              "    </div>\n",
              "  </div>\n"
            ],
            "application/vnd.google.colaboratory.intrinsic+json": {
              "type": "dataframe",
              "variable_name": "df",
              "summary": "{\n  \"name\": \"df\",\n  \"rows\": 87020,\n  \"fields\": [\n    {\n      \"column\": \"Sentence_id\",\n      \"properties\": {\n        \"dtype\": \"number\",\n        \"std\": 3236,\n        \"min\": 1,\n        \"max\": 11216,\n        \"num_unique_values\": 11216,\n        \"samples\": [\n          10098,\n          5207,\n          7787\n        ],\n        \"semantic_type\": \"\",\n        \"description\": \"\"\n      }\n    },\n    {\n      \"column\": \"Entity\",\n      \"properties\": {\n        \"dtype\": \"category\",\n        \"num_unique_values\": 18199,\n        \"samples\": [\n          \"Karlsson\",\n          \"15-10\",\n          \"Nagatsuka\"\n        ],\n        \"semantic_type\": \"\",\n        \"description\": \"\"\n      }\n    },\n    {\n      \"column\": \"Label\",\n      \"properties\": {\n        \"dtype\": \"category\",\n        \"num_unique_values\": 1465,\n        \"samples\": [\n          \"O) ('may', 'O) ('be', 'O) ('a', 'O) ('little', 'O) ('more', 'O) ('problematic', 'O) ('because', 'O) ('of', 'O) ('cold', 'O) (',', 'O) ('wet', 'O) (',', 'O) ('conditions', 'O) ('but', 'O) ('we', 'O) ('\\\\\\\\'re', 'O) ('on', 'O) ('top', 'O) ('of', 'O) ('it', 'O) (',', 'O) ('\\\\\\\" the', 'O) ('secretary', 'O) ('said', 'O) ('.', 'O\",\n          \"B-MISC) ('DIGEST', 'B-MISC) ('-', 'O) ('Bosnia', 'B-MISC) ('-', 'O) ('Aug', 'O) ('22', 'O) ('.', 'O)\\\\n\\\\nSentence 12: (1272, 'SARAJEVO 1996-08-22\",\n          \"B-PER) ('Siemerink', 'I-PER) ('(', 'O\"\n        ],\n        \"semantic_type\": \"\",\n        \"description\": \"\"\n      }\n    }\n  ]\n}"
            }
          },
          "metadata": {},
          "execution_count": 48
        }
      ]
    },
    {
      "cell_type": "code",
      "source": [
        "df[df['Sentence_id'] == 1]"
      ],
      "metadata": {
        "colab": {
          "base_uri": "https://localhost:8080/",
          "height": 332
        },
        "id": "pGSDV5wv3djy",
        "outputId": "4d03ac62-33e1-4660-ab41-4ee203511a22"
      },
      "execution_count": 112,
      "outputs": [
        {
          "output_type": "execute_result",
          "data": {
            "text/plain": [
              "   Sentence_id         Entity  Label\n",
              "0            1        Clinton  B-PER\n",
              "1            1         Sunday      O\n",
              "2            1  West Virginia  B-LOC\n",
              "3            1       Kentucky  B-LOC\n",
              "4            1           Ohio  B-LOC\n",
              "5            1       Michigan  B-LOC\n",
              "6            1        Indiana  B-LOC\n",
              "7            1        Chicago  B-LOC\n",
              "8            1              .      O"
            ],
            "text/html": [
              "\n",
              "  <div id=\"df-41734ce6-039f-4a48-9b29-08365dd4daf9\" class=\"colab-df-container\">\n",
              "    <div>\n",
              "<style scoped>\n",
              "    .dataframe tbody tr th:only-of-type {\n",
              "        vertical-align: middle;\n",
              "    }\n",
              "\n",
              "    .dataframe tbody tr th {\n",
              "        vertical-align: top;\n",
              "    }\n",
              "\n",
              "    .dataframe thead th {\n",
              "        text-align: right;\n",
              "    }\n",
              "</style>\n",
              "<table border=\"1\" class=\"dataframe\">\n",
              "  <thead>\n",
              "    <tr style=\"text-align: right;\">\n",
              "      <th></th>\n",
              "      <th>Sentence_id</th>\n",
              "      <th>Entity</th>\n",
              "      <th>Label</th>\n",
              "    </tr>\n",
              "  </thead>\n",
              "  <tbody>\n",
              "    <tr>\n",
              "      <th>0</th>\n",
              "      <td>1</td>\n",
              "      <td>Clinton</td>\n",
              "      <td>B-PER</td>\n",
              "    </tr>\n",
              "    <tr>\n",
              "      <th>1</th>\n",
              "      <td>1</td>\n",
              "      <td>Sunday</td>\n",
              "      <td>O</td>\n",
              "    </tr>\n",
              "    <tr>\n",
              "      <th>2</th>\n",
              "      <td>1</td>\n",
              "      <td>West Virginia</td>\n",
              "      <td>B-LOC</td>\n",
              "    </tr>\n",
              "    <tr>\n",
              "      <th>3</th>\n",
              "      <td>1</td>\n",
              "      <td>Kentucky</td>\n",
              "      <td>B-LOC</td>\n",
              "    </tr>\n",
              "    <tr>\n",
              "      <th>4</th>\n",
              "      <td>1</td>\n",
              "      <td>Ohio</td>\n",
              "      <td>B-LOC</td>\n",
              "    </tr>\n",
              "    <tr>\n",
              "      <th>5</th>\n",
              "      <td>1</td>\n",
              "      <td>Michigan</td>\n",
              "      <td>B-LOC</td>\n",
              "    </tr>\n",
              "    <tr>\n",
              "      <th>6</th>\n",
              "      <td>1</td>\n",
              "      <td>Indiana</td>\n",
              "      <td>B-LOC</td>\n",
              "    </tr>\n",
              "    <tr>\n",
              "      <th>7</th>\n",
              "      <td>1</td>\n",
              "      <td>Chicago</td>\n",
              "      <td>B-LOC</td>\n",
              "    </tr>\n",
              "    <tr>\n",
              "      <th>8</th>\n",
              "      <td>1</td>\n",
              "      <td>.</td>\n",
              "      <td>O</td>\n",
              "    </tr>\n",
              "  </tbody>\n",
              "</table>\n",
              "</div>\n",
              "    <div class=\"colab-df-buttons\">\n",
              "\n",
              "  <div class=\"colab-df-container\">\n",
              "    <button class=\"colab-df-convert\" onclick=\"convertToInteractive('df-41734ce6-039f-4a48-9b29-08365dd4daf9')\"\n",
              "            title=\"Convert this dataframe to an interactive table.\"\n",
              "            style=\"display:none;\">\n",
              "\n",
              "  <svg xmlns=\"http://www.w3.org/2000/svg\" height=\"24px\" viewBox=\"0 -960 960 960\">\n",
              "    <path d=\"M120-120v-720h720v720H120Zm60-500h600v-160H180v160Zm220 220h160v-160H400v160Zm0 220h160v-160H400v160ZM180-400h160v-160H180v160Zm440 0h160v-160H620v160ZM180-180h160v-160H180v160Zm440 0h160v-160H620v160Z\"/>\n",
              "  </svg>\n",
              "    </button>\n",
              "\n",
              "  <style>\n",
              "    .colab-df-container {\n",
              "      display:flex;\n",
              "      gap: 12px;\n",
              "    }\n",
              "\n",
              "    .colab-df-convert {\n",
              "      background-color: #E8F0FE;\n",
              "      border: none;\n",
              "      border-radius: 50%;\n",
              "      cursor: pointer;\n",
              "      display: none;\n",
              "      fill: #1967D2;\n",
              "      height: 32px;\n",
              "      padding: 0 0 0 0;\n",
              "      width: 32px;\n",
              "    }\n",
              "\n",
              "    .colab-df-convert:hover {\n",
              "      background-color: #E2EBFA;\n",
              "      box-shadow: 0px 1px 2px rgba(60, 64, 67, 0.3), 0px 1px 3px 1px rgba(60, 64, 67, 0.15);\n",
              "      fill: #174EA6;\n",
              "    }\n",
              "\n",
              "    .colab-df-buttons div {\n",
              "      margin-bottom: 4px;\n",
              "    }\n",
              "\n",
              "    [theme=dark] .colab-df-convert {\n",
              "      background-color: #3B4455;\n",
              "      fill: #D2E3FC;\n",
              "    }\n",
              "\n",
              "    [theme=dark] .colab-df-convert:hover {\n",
              "      background-color: #434B5C;\n",
              "      box-shadow: 0px 1px 3px 1px rgba(0, 0, 0, 0.15);\n",
              "      filter: drop-shadow(0px 1px 2px rgba(0, 0, 0, 0.3));\n",
              "      fill: #FFFFFF;\n",
              "    }\n",
              "  </style>\n",
              "\n",
              "    <script>\n",
              "      const buttonEl =\n",
              "        document.querySelector('#df-41734ce6-039f-4a48-9b29-08365dd4daf9 button.colab-df-convert');\n",
              "      buttonEl.style.display =\n",
              "        google.colab.kernel.accessAllowed ? 'block' : 'none';\n",
              "\n",
              "      async function convertToInteractive(key) {\n",
              "        const element = document.querySelector('#df-41734ce6-039f-4a48-9b29-08365dd4daf9');\n",
              "        const dataTable =\n",
              "          await google.colab.kernel.invokeFunction('convertToInteractive',\n",
              "                                                    [key], {});\n",
              "        if (!dataTable) return;\n",
              "\n",
              "        const docLinkHtml = 'Like what you see? Visit the ' +\n",
              "          '<a target=\"_blank\" href=https://colab.research.google.com/notebooks/data_table.ipynb>data table notebook</a>'\n",
              "          + ' to learn more about interactive tables.';\n",
              "        element.innerHTML = '';\n",
              "        dataTable['output_type'] = 'display_data';\n",
              "        await google.colab.output.renderOutput(dataTable, element);\n",
              "        const docLink = document.createElement('div');\n",
              "        docLink.innerHTML = docLinkHtml;\n",
              "        element.appendChild(docLink);\n",
              "      }\n",
              "    </script>\n",
              "  </div>\n",
              "\n",
              "\n",
              "    <div id=\"df-4b055402-e894-4421-a780-d74982bf9c08\">\n",
              "      <button class=\"colab-df-quickchart\" onclick=\"quickchart('df-4b055402-e894-4421-a780-d74982bf9c08')\"\n",
              "                title=\"Suggest charts\"\n",
              "                style=\"display:none;\">\n",
              "\n",
              "<svg xmlns=\"http://www.w3.org/2000/svg\" height=\"24px\"viewBox=\"0 0 24 24\"\n",
              "     width=\"24px\">\n",
              "    <g>\n",
              "        <path d=\"M19 3H5c-1.1 0-2 .9-2 2v14c0 1.1.9 2 2 2h14c1.1 0 2-.9 2-2V5c0-1.1-.9-2-2-2zM9 17H7v-7h2v7zm4 0h-2V7h2v10zm4 0h-2v-4h2v4z\"/>\n",
              "    </g>\n",
              "</svg>\n",
              "      </button>\n",
              "\n",
              "<style>\n",
              "  .colab-df-quickchart {\n",
              "      --bg-color: #E8F0FE;\n",
              "      --fill-color: #1967D2;\n",
              "      --hover-bg-color: #E2EBFA;\n",
              "      --hover-fill-color: #174EA6;\n",
              "      --disabled-fill-color: #AAA;\n",
              "      --disabled-bg-color: #DDD;\n",
              "  }\n",
              "\n",
              "  [theme=dark] .colab-df-quickchart {\n",
              "      --bg-color: #3B4455;\n",
              "      --fill-color: #D2E3FC;\n",
              "      --hover-bg-color: #434B5C;\n",
              "      --hover-fill-color: #FFFFFF;\n",
              "      --disabled-bg-color: #3B4455;\n",
              "      --disabled-fill-color: #666;\n",
              "  }\n",
              "\n",
              "  .colab-df-quickchart {\n",
              "    background-color: var(--bg-color);\n",
              "    border: none;\n",
              "    border-radius: 50%;\n",
              "    cursor: pointer;\n",
              "    display: none;\n",
              "    fill: var(--fill-color);\n",
              "    height: 32px;\n",
              "    padding: 0;\n",
              "    width: 32px;\n",
              "  }\n",
              "\n",
              "  .colab-df-quickchart:hover {\n",
              "    background-color: var(--hover-bg-color);\n",
              "    box-shadow: 0 1px 2px rgba(60, 64, 67, 0.3), 0 1px 3px 1px rgba(60, 64, 67, 0.15);\n",
              "    fill: var(--button-hover-fill-color);\n",
              "  }\n",
              "\n",
              "  .colab-df-quickchart-complete:disabled,\n",
              "  .colab-df-quickchart-complete:disabled:hover {\n",
              "    background-color: var(--disabled-bg-color);\n",
              "    fill: var(--disabled-fill-color);\n",
              "    box-shadow: none;\n",
              "  }\n",
              "\n",
              "  .colab-df-spinner {\n",
              "    border: 2px solid var(--fill-color);\n",
              "    border-color: transparent;\n",
              "    border-bottom-color: var(--fill-color);\n",
              "    animation:\n",
              "      spin 1s steps(1) infinite;\n",
              "  }\n",
              "\n",
              "  @keyframes spin {\n",
              "    0% {\n",
              "      border-color: transparent;\n",
              "      border-bottom-color: var(--fill-color);\n",
              "      border-left-color: var(--fill-color);\n",
              "    }\n",
              "    20% {\n",
              "      border-color: transparent;\n",
              "      border-left-color: var(--fill-color);\n",
              "      border-top-color: var(--fill-color);\n",
              "    }\n",
              "    30% {\n",
              "      border-color: transparent;\n",
              "      border-left-color: var(--fill-color);\n",
              "      border-top-color: var(--fill-color);\n",
              "      border-right-color: var(--fill-color);\n",
              "    }\n",
              "    40% {\n",
              "      border-color: transparent;\n",
              "      border-right-color: var(--fill-color);\n",
              "      border-top-color: var(--fill-color);\n",
              "    }\n",
              "    60% {\n",
              "      border-color: transparent;\n",
              "      border-right-color: var(--fill-color);\n",
              "    }\n",
              "    80% {\n",
              "      border-color: transparent;\n",
              "      border-right-color: var(--fill-color);\n",
              "      border-bottom-color: var(--fill-color);\n",
              "    }\n",
              "    90% {\n",
              "      border-color: transparent;\n",
              "      border-bottom-color: var(--fill-color);\n",
              "    }\n",
              "  }\n",
              "</style>\n",
              "\n",
              "      <script>\n",
              "        async function quickchart(key) {\n",
              "          const quickchartButtonEl =\n",
              "            document.querySelector('#' + key + ' button');\n",
              "          quickchartButtonEl.disabled = true;  // To prevent multiple clicks.\n",
              "          quickchartButtonEl.classList.add('colab-df-spinner');\n",
              "          try {\n",
              "            const charts = await google.colab.kernel.invokeFunction(\n",
              "                'suggestCharts', [key], {});\n",
              "          } catch (error) {\n",
              "            console.error('Error during call to suggestCharts:', error);\n",
              "          }\n",
              "          quickchartButtonEl.classList.remove('colab-df-spinner');\n",
              "          quickchartButtonEl.classList.add('colab-df-quickchart-complete');\n",
              "        }\n",
              "        (() => {\n",
              "          let quickchartButtonEl =\n",
              "            document.querySelector('#df-4b055402-e894-4421-a780-d74982bf9c08 button');\n",
              "          quickchartButtonEl.style.display =\n",
              "            google.colab.kernel.accessAllowed ? 'block' : 'none';\n",
              "        })();\n",
              "      </script>\n",
              "    </div>\n",
              "\n",
              "    </div>\n",
              "  </div>\n"
            ],
            "application/vnd.google.colaboratory.intrinsic+json": {
              "type": "dataframe",
              "summary": "{\n  \"name\": \"df[df['Sentence_id'] == 1]\",\n  \"rows\": 9,\n  \"fields\": [\n    {\n      \"column\": \"Sentence_id\",\n      \"properties\": {\n        \"dtype\": \"number\",\n        \"std\": 0,\n        \"min\": 1,\n        \"max\": 1,\n        \"num_unique_values\": 1,\n        \"samples\": [\n          1\n        ],\n        \"semantic_type\": \"\",\n        \"description\": \"\"\n      }\n    },\n    {\n      \"column\": \"Entity\",\n      \"properties\": {\n        \"dtype\": \"string\",\n        \"num_unique_values\": 9,\n        \"samples\": [\n          \"Chicago\"\n        ],\n        \"semantic_type\": \"\",\n        \"description\": \"\"\n      }\n    },\n    {\n      \"column\": \"Label\",\n      \"properties\": {\n        \"dtype\": \"category\",\n        \"num_unique_values\": 3,\n        \"samples\": [\n          \"B-PER\"\n        ],\n        \"semantic_type\": \"\",\n        \"description\": \"\"\n      }\n    }\n  ]\n}"
            }
          },
          "metadata": {},
          "execution_count": 112
        }
      ]
    },
    {
      "cell_type": "markdown",
      "source": [
        "Cleaning DataFrame."
      ],
      "metadata": {
        "id": "XKzoxe4c1z78"
      }
    },
    {
      "cell_type": "code",
      "source": [
        "allowed_labels = ['B-LOC', 'B-MISC', 'B-ORG', 'B-PER', 'I-LOC', 'I-MISC', 'I-ORG', 'I-PER', 'O']\n",
        "invalid_rows = df[~df[\"Label\"].isin(allowed_labels)]\n",
        "df = df.drop(invalid_rows.index)"
      ],
      "metadata": {
        "id": "phLb7mYXyLne"
      },
      "execution_count": 102,
      "outputs": []
    },
    {
      "cell_type": "code",
      "source": [
        "df.Label.unique()"
      ],
      "metadata": {
        "colab": {
          "base_uri": "https://localhost:8080/"
        },
        "id": "xuy-eCOP1oSg",
        "outputId": "7b076364-198b-4a1d-b063-7904760ebf07"
      },
      "execution_count": 103,
      "outputs": [
        {
          "output_type": "execute_result",
          "data": {
            "text/plain": [
              "array(['B-PER', 'O', 'B-LOC', 'B-ORG', 'B-MISC', 'I-MISC', 'I-PER',\n",
              "       'I-ORG', 'I-LOC'], dtype=object)"
            ]
          },
          "metadata": {},
          "execution_count": 103
        }
      ]
    },
    {
      "cell_type": "markdown",
      "source": [
        "## SpaCy"
      ],
      "metadata": {
        "id": "uQvSKYQ6alWa"
      }
    },
    {
      "cell_type": "markdown",
      "source": [
        "This model has been already observed in ML method notebook, therefore if additional information is needed, you can look it up there."
      ],
      "metadata": {
        "id": "95bxvGd_kXwx"
      }
    },
    {
      "cell_type": "markdown",
      "source": [
        "Let's proceed to SpaCy and its pre-trained pipeline en_core_web_sm that is able to perform relation exrtaction."
      ],
      "metadata": {
        "id": "jkrZ-HmGkKEV"
      }
    },
    {
      "cell_type": "code",
      "source": [
        "nlp = spacy.load(\"en_core_web_sm\")"
      ],
      "metadata": {
        "id": "M8nE0TMJkFjU"
      },
      "execution_count": 104,
      "outputs": []
    },
    {
      "cell_type": "markdown",
      "source": [
        "Let's annotate our sentences with NE and their relations."
      ],
      "metadata": {
        "id": "0XsOldELkVjX"
      }
    },
    {
      "cell_type": "code",
      "source": [
        "bio_tokens = list(zip(df.Entity, df.Label))\n",
        "\n",
        "tokens = [token for token, _ in bio_tokens]\n",
        "sentence = \" \".join(tokens)\n",
        "\n",
        "entities = []\n",
        "current_entity = []\n",
        "start_idx = None\n",
        "\n",
        "for idx, (token, tag) in enumerate(bio_tokens):\n",
        "    if tag.startswith(\"B-\"):\n",
        "        if current_entity:\n",
        "            entities.append((start_idx, idx - 1))\n",
        "        current_entity = [token]\n",
        "        start_idx = idx\n",
        "    elif tag.startswith(\"I-\") and current_entity:\n",
        "        current_entity.append(token)\n",
        "    else:\n",
        "        if current_entity:\n",
        "            entities.append((start_idx, idx - 1))\n",
        "            current_entity = []\n",
        "            start_idx = None\n",
        "\n",
        "if current_entity:\n",
        "    entities.append((start_idx, len(bio_tokens) - 1))\n",
        "\n",
        "doc = nlp(sentence)\n",
        "\n",
        "# 4. Преобразуем индексы из BIO в spaCy токены (предполагается что токены совпадают)\n",
        "spacy_entities = [doc[start:end+1] for start, end in entities]\n",
        "\n",
        "# 5. Извлечение отношений между сущностями\n",
        "triplets = []\n",
        "for ent1, ent2 in combinations(spacy_entities, 2):\n",
        "    # выделим промежуток между сущностями\n",
        "    if ent1.end < ent2.start:\n",
        "        span = doc[ent1.end:ent2.start]\n",
        "    elif ent2.end < ent1.start:\n",
        "        span = doc[ent2.end:ent1.start]\n",
        "    else:\n",
        "        continue  # пересекаются или совпадают\n",
        "\n",
        "    for token in span:\n",
        "        if token.dep_ in ('ROOT', 'relcl', 'attr', 'prep', 'agent', 'nsubj', 'dobj'):\n",
        "            triplets.append((ent1.text, token.lemma_, ent2.text))\n",
        "            break\n",
        "\n",
        "# 6. Вывод\n",
        "print(\"Восстановленное предложение:\")\n",
        "print(sentence)\n",
        "\n",
        "print(\"\\nСущности:\")\n",
        "for span in spacy_entities:\n",
        "    print(span.text)\n",
        "\n",
        "print(\"\\nОтношения:\")\n",
        "for subj, rel, obj in triplets:\n",
        "    print(f\"({subj}) -[{rel}]-> ({obj})\")\n"
      ],
      "metadata": {
        "colab": {
          "base_uri": "https://localhost:8080/",
          "height": 211
        },
        "id": "S60QOQUCkVMZ",
        "outputId": "dc13b857-aa0c-4f9d-c4fe-c16461acf458"
      },
      "execution_count": 106,
      "outputs": [
        {
          "output_type": "error",
          "ename": "KeyboardInterrupt",
          "evalue": "",
          "traceback": [
            "\u001b[0;31m---------------------------------------------------------------------------\u001b[0m",
            "\u001b[0;31mKeyboardInterrupt\u001b[0m                         Traceback (most recent call last)",
            "Cell \u001b[0;32mIn[106], line 44\u001b[0m\n\u001b[1;32m     41\u001b[0m     \u001b[38;5;28;01mcontinue\u001b[39;00m  \u001b[38;5;66;03m# пересекаются или совпадают\u001b[39;00m\n\u001b[1;32m     43\u001b[0m \u001b[38;5;28;01mfor\u001b[39;00m token \u001b[38;5;129;01min\u001b[39;00m span:\n\u001b[0;32m---> 44\u001b[0m     \u001b[38;5;28;01mif\u001b[39;00m token\u001b[38;5;241m.\u001b[39mdep_ \u001b[38;5;129;01min\u001b[39;00m (\u001b[38;5;124m'\u001b[39m\u001b[38;5;124mROOT\u001b[39m\u001b[38;5;124m'\u001b[39m, \u001b[38;5;124m'\u001b[39m\u001b[38;5;124mrelcl\u001b[39m\u001b[38;5;124m'\u001b[39m, \u001b[38;5;124m'\u001b[39m\u001b[38;5;124mattr\u001b[39m\u001b[38;5;124m'\u001b[39m, \u001b[38;5;124m'\u001b[39m\u001b[38;5;124mprep\u001b[39m\u001b[38;5;124m'\u001b[39m, \u001b[38;5;124m'\u001b[39m\u001b[38;5;124magent\u001b[39m\u001b[38;5;124m'\u001b[39m, \u001b[38;5;124m'\u001b[39m\u001b[38;5;124mnsubj\u001b[39m\u001b[38;5;124m'\u001b[39m, \u001b[38;5;124m'\u001b[39m\u001b[38;5;124mdobj\u001b[39m\u001b[38;5;124m'\u001b[39m):\n\u001b[1;32m     45\u001b[0m         triplets\u001b[38;5;241m.\u001b[39mappend((ent1\u001b[38;5;241m.\u001b[39mtext, token\u001b[38;5;241m.\u001b[39mlemma_, ent2\u001b[38;5;241m.\u001b[39mtext))\n\u001b[1;32m     46\u001b[0m         \u001b[38;5;28;01mbreak\u001b[39;00m\n",
            "\u001b[0;31mKeyboardInterrupt\u001b[0m: "
          ]
        }
      ]
    },
    {
      "cell_type": "markdown",
      "source": [
        "And look inside."
      ],
      "metadata": {
        "id": "LO6SQpZBkvQx"
      }
    },
    {
      "cell_type": "code",
      "source": [
        "for doc in docs[:5]:\n",
        "    print(doc[0])\n",
        "    print(doc[1].ents)\n",
        "    print(doc[2])"
      ],
      "metadata": {
        "id": "Om0NjmmSks_L"
      },
      "execution_count": null,
      "outputs": []
    },
    {
      "cell_type": "markdown",
      "source": [
        "After that, we would continue with creating a whole DataFrame using the attributes of en_core_web_sm annotation."
      ],
      "metadata": {
        "id": "dkQ-FYbHkzHR"
      }
    },
    {
      "cell_type": "code",
      "source": [
        "entities_doc = []\n",
        "labels_doc = []\n",
        "description = []\n",
        "start_position = []\n",
        "end_position = []\n",
        "sentence_id = []\n",
        "\n",
        "for doc in docs:\n",
        "    for ents in doc[1].ents:\n",
        "        sentence_id.append(doc[0])\n",
        "        entities_doc.append(ents)\n",
        "        labels_doc.append(ents.label_)\n",
        "        description.append(spacy.explain(ents.label_))\n",
        "        start_position.append(ents.start_char)\n",
        "        end_position.append(ents.end_char)\n",
        "\n",
        "ner_spacy = list(zip(sentence_id, entities_doc, labels_doc, description, start_position, end_position))\n",
        "df_spacy = pd.DataFrame(ner_spacy)\n",
        "df_spacy.columns = ['Sentence_ID', 'Entity', 'Label', 'Description', 'Starting Position', 'Ending Position']\n",
        "df_spacy.head()"
      ],
      "metadata": {
        "id": "w7peodntkzjQ"
      },
      "execution_count": null,
      "outputs": []
    },
    {
      "cell_type": "markdown",
      "metadata": {
        "id": "b2lzlBszx6ad"
      },
      "source": [
        "## Data Visualisation"
      ]
    },
    {
      "cell_type": "markdown",
      "metadata": {
        "id": "GPZiLrhzW8k-"
      },
      "source": [
        "At first, we should extract triplets from the dataframe."
      ]
    },
    {
      "cell_type": "code",
      "execution_count": null,
      "metadata": {
        "colab": {
          "base_uri": "https://localhost:8080/",
          "height": 363
        },
        "id": "qarF7dlJW8Nz",
        "outputId": "98174bff-c363-47e3-9d8e-4d7c95f5c457"
      },
      "outputs": [
        {
          "data": {
            "application/vnd.google.colaboratory.intrinsic+json": {
              "summary": "{\n  \"name\": \"df_triplets\",\n  \"rows\": 10,\n  \"fields\": [\n    {\n      \"column\": [\n        \"Sentence_ID\"\n      ],\n      \"properties\": {\n        \"dtype\": \"number\",\n        \"std\": 0,\n        \"min\": 541,\n        \"max\": 543,\n        \"num_unique_values\": 3,\n        \"samples\": [\n          541,\n          542,\n          543\n        ],\n        \"semantic_type\": \"\",\n        \"description\": \"\"\n      }\n    },\n    {\n      \"column\": [\n        \"Entity_1\"\n      ],\n      \"properties\": {\n        \"dtype\": \"string\",\n        \"num_unique_values\": 7,\n        \"samples\": [\n          \"Siauliai\",\n          \"Kareda\",\n          \"Attendance\"\n        ],\n        \"semantic_type\": \"\",\n        \"description\": \"\"\n      }\n    },\n    {\n      \"column\": [\n        \"Relation\"\n      ],\n      \"properties\": {\n        \"dtype\": \"category\",\n        \"num_unique_values\": 2,\n        \"samples\": [\n          \"I-LOC') ('Lithuania\",\n          \"B-LOC') ('Kareda\"\n        ],\n        \"semantic_type\": \"\",\n        \"description\": \"\"\n      }\n    },\n    {\n      \"column\": [\n        \"Entity_2\"\n      ],\n      \"properties\": {\n        \"dtype\": \"category\",\n        \"num_unique_values\": 2,\n        \"samples\": [\n          \"B-LOC\",\n          \"O\"\n        ],\n        \"semantic_type\": \"\",\n        \"description\": \"\"\n      }\n    }\n  ]\n}",
              "type": "dataframe"
            },
            "text/html": [
              "\n",
              "  <div id=\"df-fe3b53fe-d0ca-47e8-889e-fc76c3ad5f25\" class=\"colab-df-container\">\n",
              "    <div>\n",
              "<style scoped>\n",
              "    .dataframe tbody tr th:only-of-type {\n",
              "        vertical-align: middle;\n",
              "    }\n",
              "\n",
              "    .dataframe tbody tr th {\n",
              "        vertical-align: top;\n",
              "    }\n",
              "\n",
              "    .dataframe thead tr th {\n",
              "        text-align: left;\n",
              "    }\n",
              "</style>\n",
              "<table border=\"1\" class=\"dataframe\">\n",
              "  <thead>\n",
              "    <tr>\n",
              "      <th></th>\n",
              "      <th>Sentence_ID</th>\n",
              "      <th>Entity_1</th>\n",
              "      <th>Relation</th>\n",
              "      <th>Entity_2</th>\n",
              "    </tr>\n",
              "  </thead>\n",
              "  <tbody>\n",
              "    <tr>\n",
              "      <th>0</th>\n",
              "      <td>541</td>\n",
              "      <td>Siauliai</td>\n",
              "      <td>B-LOC') ('Kareda</td>\n",
              "      <td>O</td>\n",
              "    </tr>\n",
              "    <tr>\n",
              "      <th>1</th>\n",
              "      <td>541</td>\n",
              "      <td>Siauliai</td>\n",
              "      <td>I-LOC') ('Lithuania</td>\n",
              "      <td>B-LOC</td>\n",
              "    </tr>\n",
              "    <tr>\n",
              "      <th>2</th>\n",
              "      <td>541</td>\n",
              "      <td>Kareda</td>\n",
              "      <td>NaN</td>\n",
              "      <td>NaN</td>\n",
              "    </tr>\n",
              "    <tr>\n",
              "      <th>3</th>\n",
              "      <td>541</td>\n",
              "      <td>Siauliai</td>\n",
              "      <td>B-LOC') ('Kareda</td>\n",
              "      <td>O</td>\n",
              "    </tr>\n",
              "    <tr>\n",
              "      <th>4</th>\n",
              "      <td>541</td>\n",
              "      <td>Siauliai</td>\n",
              "      <td>I-LOC') ('Lithuania</td>\n",
              "      <td>B-LOC</td>\n",
              "    </tr>\n",
              "    <tr>\n",
              "      <th>5</th>\n",
              "      <td>541</td>\n",
              "      <td>Lithuania</td>\n",
              "      <td>NaN</td>\n",
              "      <td>NaN</td>\n",
              "    </tr>\n",
              "    <tr>\n",
              "      <th>6</th>\n",
              "      <td>541</td>\n",
              "      <td>Sion</td>\n",
              "      <td>NaN</td>\n",
              "      <td>NaN</td>\n",
              "    </tr>\n",
              "    <tr>\n",
              "      <th>7</th>\n",
              "      <td>542</td>\n",
              "      <td>Switzerland</td>\n",
              "      <td>NaN</td>\n",
              "      <td>NaN</td>\n",
              "    </tr>\n",
              "    <tr>\n",
              "      <th>8</th>\n",
              "      <td>543</td>\n",
              "      <td>Attendance</td>\n",
              "      <td>NaN</td>\n",
              "      <td>NaN</td>\n",
              "    </tr>\n",
              "    <tr>\n",
              "      <th>9</th>\n",
              "      <td>543</td>\n",
              "      <td>5,000</td>\n",
              "      <td>NaN</td>\n",
              "      <td>NaN</td>\n",
              "    </tr>\n",
              "  </tbody>\n",
              "</table>\n",
              "</div>\n",
              "    <div class=\"colab-df-buttons\">\n",
              "\n",
              "  <div class=\"colab-df-container\">\n",
              "    <button class=\"colab-df-convert\" onclick=\"convertToInteractive('df-fe3b53fe-d0ca-47e8-889e-fc76c3ad5f25')\"\n",
              "            title=\"Convert this dataframe to an interactive table.\"\n",
              "            style=\"display:none;\">\n",
              "\n",
              "  <svg xmlns=\"http://www.w3.org/2000/svg\" height=\"24px\" viewBox=\"0 -960 960 960\">\n",
              "    <path d=\"M120-120v-720h720v720H120Zm60-500h600v-160H180v160Zm220 220h160v-160H400v160Zm0 220h160v-160H400v160ZM180-400h160v-160H180v160Zm440 0h160v-160H620v160ZM180-180h160v-160H180v160Zm440 0h160v-160H620v160Z\"/>\n",
              "  </svg>\n",
              "    </button>\n",
              "\n",
              "  <style>\n",
              "    .colab-df-container {\n",
              "      display:flex;\n",
              "      gap: 12px;\n",
              "    }\n",
              "\n",
              "    .colab-df-convert {\n",
              "      background-color: #E8F0FE;\n",
              "      border: none;\n",
              "      border-radius: 50%;\n",
              "      cursor: pointer;\n",
              "      display: none;\n",
              "      fill: #1967D2;\n",
              "      height: 32px;\n",
              "      padding: 0 0 0 0;\n",
              "      width: 32px;\n",
              "    }\n",
              "\n",
              "    .colab-df-convert:hover {\n",
              "      background-color: #E2EBFA;\n",
              "      box-shadow: 0px 1px 2px rgba(60, 64, 67, 0.3), 0px 1px 3px 1px rgba(60, 64, 67, 0.15);\n",
              "      fill: #174EA6;\n",
              "    }\n",
              "\n",
              "    .colab-df-buttons div {\n",
              "      margin-bottom: 4px;\n",
              "    }\n",
              "\n",
              "    [theme=dark] .colab-df-convert {\n",
              "      background-color: #3B4455;\n",
              "      fill: #D2E3FC;\n",
              "    }\n",
              "\n",
              "    [theme=dark] .colab-df-convert:hover {\n",
              "      background-color: #434B5C;\n",
              "      box-shadow: 0px 1px 3px 1px rgba(0, 0, 0, 0.15);\n",
              "      filter: drop-shadow(0px 1px 2px rgba(0, 0, 0, 0.3));\n",
              "      fill: #FFFFFF;\n",
              "    }\n",
              "  </style>\n",
              "\n",
              "    <script>\n",
              "      const buttonEl =\n",
              "        document.querySelector('#df-fe3b53fe-d0ca-47e8-889e-fc76c3ad5f25 button.colab-df-convert');\n",
              "      buttonEl.style.display =\n",
              "        google.colab.kernel.accessAllowed ? 'block' : 'none';\n",
              "\n",
              "      async function convertToInteractive(key) {\n",
              "        const element = document.querySelector('#df-fe3b53fe-d0ca-47e8-889e-fc76c3ad5f25');\n",
              "        const dataTable =\n",
              "          await google.colab.kernel.invokeFunction('convertToInteractive',\n",
              "                                                    [key], {});\n",
              "        if (!dataTable) return;\n",
              "\n",
              "        const docLinkHtml = 'Like what you see? Visit the ' +\n",
              "          '<a target=\"_blank\" href=https://colab.research.google.com/notebooks/data_table.ipynb>data table notebook</a>'\n",
              "          + ' to learn more about interactive tables.';\n",
              "        element.innerHTML = '';\n",
              "        dataTable['output_type'] = 'display_data';\n",
              "        await google.colab.output.renderOutput(dataTable, element);\n",
              "        const docLink = document.createElement('div');\n",
              "        docLink.innerHTML = docLinkHtml;\n",
              "        element.appendChild(docLink);\n",
              "      }\n",
              "    </script>\n",
              "  </div>\n",
              "\n",
              "\n",
              "    <div id=\"df-aad9f8fb-6d97-41dc-a7ff-c57d7d62a5a2\">\n",
              "      <button class=\"colab-df-quickchart\" onclick=\"quickchart('df-aad9f8fb-6d97-41dc-a7ff-c57d7d62a5a2')\"\n",
              "                title=\"Suggest charts\"\n",
              "                style=\"display:none;\">\n",
              "\n",
              "<svg xmlns=\"http://www.w3.org/2000/svg\" height=\"24px\"viewBox=\"0 0 24 24\"\n",
              "     width=\"24px\">\n",
              "    <g>\n",
              "        <path d=\"M19 3H5c-1.1 0-2 .9-2 2v14c0 1.1.9 2 2 2h14c1.1 0 2-.9 2-2V5c0-1.1-.9-2-2-2zM9 17H7v-7h2v7zm4 0h-2V7h2v10zm4 0h-2v-4h2v4z\"/>\n",
              "    </g>\n",
              "</svg>\n",
              "      </button>\n",
              "\n",
              "<style>\n",
              "  .colab-df-quickchart {\n",
              "      --bg-color: #E8F0FE;\n",
              "      --fill-color: #1967D2;\n",
              "      --hover-bg-color: #E2EBFA;\n",
              "      --hover-fill-color: #174EA6;\n",
              "      --disabled-fill-color: #AAA;\n",
              "      --disabled-bg-color: #DDD;\n",
              "  }\n",
              "\n",
              "  [theme=dark] .colab-df-quickchart {\n",
              "      --bg-color: #3B4455;\n",
              "      --fill-color: #D2E3FC;\n",
              "      --hover-bg-color: #434B5C;\n",
              "      --hover-fill-color: #FFFFFF;\n",
              "      --disabled-bg-color: #3B4455;\n",
              "      --disabled-fill-color: #666;\n",
              "  }\n",
              "\n",
              "  .colab-df-quickchart {\n",
              "    background-color: var(--bg-color);\n",
              "    border: none;\n",
              "    border-radius: 50%;\n",
              "    cursor: pointer;\n",
              "    display: none;\n",
              "    fill: var(--fill-color);\n",
              "    height: 32px;\n",
              "    padding: 0;\n",
              "    width: 32px;\n",
              "  }\n",
              "\n",
              "  .colab-df-quickchart:hover {\n",
              "    background-color: var(--hover-bg-color);\n",
              "    box-shadow: 0 1px 2px rgba(60, 64, 67, 0.3), 0 1px 3px 1px rgba(60, 64, 67, 0.15);\n",
              "    fill: var(--button-hover-fill-color);\n",
              "  }\n",
              "\n",
              "  .colab-df-quickchart-complete:disabled,\n",
              "  .colab-df-quickchart-complete:disabled:hover {\n",
              "    background-color: var(--disabled-bg-color);\n",
              "    fill: var(--disabled-fill-color);\n",
              "    box-shadow: none;\n",
              "  }\n",
              "\n",
              "  .colab-df-spinner {\n",
              "    border: 2px solid var(--fill-color);\n",
              "    border-color: transparent;\n",
              "    border-bottom-color: var(--fill-color);\n",
              "    animation:\n",
              "      spin 1s steps(1) infinite;\n",
              "  }\n",
              "\n",
              "  @keyframes spin {\n",
              "    0% {\n",
              "      border-color: transparent;\n",
              "      border-bottom-color: var(--fill-color);\n",
              "      border-left-color: var(--fill-color);\n",
              "    }\n",
              "    20% {\n",
              "      border-color: transparent;\n",
              "      border-left-color: var(--fill-color);\n",
              "      border-top-color: var(--fill-color);\n",
              "    }\n",
              "    30% {\n",
              "      border-color: transparent;\n",
              "      border-left-color: var(--fill-color);\n",
              "      border-top-color: var(--fill-color);\n",
              "      border-right-color: var(--fill-color);\n",
              "    }\n",
              "    40% {\n",
              "      border-color: transparent;\n",
              "      border-right-color: var(--fill-color);\n",
              "      border-top-color: var(--fill-color);\n",
              "    }\n",
              "    60% {\n",
              "      border-color: transparent;\n",
              "      border-right-color: var(--fill-color);\n",
              "    }\n",
              "    80% {\n",
              "      border-color: transparent;\n",
              "      border-right-color: var(--fill-color);\n",
              "      border-bottom-color: var(--fill-color);\n",
              "    }\n",
              "    90% {\n",
              "      border-color: transparent;\n",
              "      border-bottom-color: var(--fill-color);\n",
              "    }\n",
              "  }\n",
              "</style>\n",
              "\n",
              "      <script>\n",
              "        async function quickchart(key) {\n",
              "          const quickchartButtonEl =\n",
              "            document.querySelector('#' + key + ' button');\n",
              "          quickchartButtonEl.disabled = true;  // To prevent multiple clicks.\n",
              "          quickchartButtonEl.classList.add('colab-df-spinner');\n",
              "          try {\n",
              "            const charts = await google.colab.kernel.invokeFunction(\n",
              "                'suggestCharts', [key], {});\n",
              "          } catch (error) {\n",
              "            console.error('Error during call to suggestCharts:', error);\n",
              "          }\n",
              "          quickchartButtonEl.classList.remove('colab-df-spinner');\n",
              "          quickchartButtonEl.classList.add('colab-df-quickchart-complete');\n",
              "        }\n",
              "        (() => {\n",
              "          let quickchartButtonEl =\n",
              "            document.querySelector('#df-aad9f8fb-6d97-41dc-a7ff-c57d7d62a5a2 button');\n",
              "          quickchartButtonEl.style.display =\n",
              "            google.colab.kernel.accessAllowed ? 'block' : 'none';\n",
              "        })();\n",
              "      </script>\n",
              "    </div>\n",
              "\n",
              "    </div>\n",
              "  </div>\n"
            ],
            "text/plain": [
              "  Sentence_ID     Entity_1             Relation Entity_2\n",
              "0         541     Siauliai     B-LOC') ('Kareda        O\n",
              "1         541     Siauliai  I-LOC') ('Lithuania    B-LOC\n",
              "2         541       Kareda                  NaN      NaN\n",
              "3         541     Siauliai     B-LOC') ('Kareda        O\n",
              "4         541     Siauliai  I-LOC') ('Lithuania    B-LOC\n",
              "5         541    Lithuania                  NaN      NaN\n",
              "6         541         Sion                  NaN      NaN\n",
              "7         542  Switzerland                  NaN      NaN\n",
              "8         543   Attendance                  NaN      NaN\n",
              "9         543        5,000                  NaN      NaN"
            ]
          },
          "execution_count": 57,
          "metadata": {},
          "output_type": "execute_result"
        }
      ],
      "source": [
        "triplets = list(df_LLM[['Sentence_ID', 'Entity_1', 'Relation', 'Entity_2']].itertuples(index=False, name=None))\n",
        "df_triplets = pd.DataFrame(triplets, columns=[['Sentence_ID', 'Entity_1', 'Relation', 'Entity_2']])\n",
        "df_triplets.iloc[:10]"
      ]
    },
    {
      "cell_type": "code",
      "execution_count": null,
      "metadata": {
        "id": "tzODmrDuvPVy"
      },
      "outputs": [],
      "source": [
        "df_filtered = df_triplets.iloc[24:36]\n",
        "\n",
        "G = nx.DiGraph()\n",
        "\n",
        "for _, row in df_filtered.iterrows():\n",
        "    G.add_edge(row['Entity_1'], row['Entity_2'], label=row['Relation'])"
      ]
    },
    {
      "cell_type": "markdown",
      "metadata": {
        "id": "ug0TIsRiwGA_"
      },
      "source": [
        "Let's build a Knowledge graph"
      ]
    },
    {
      "cell_type": "code",
      "execution_count": null,
      "metadata": {
        "colab": {
          "base_uri": "https://localhost:8080/",
          "height": 860
        },
        "id": "DPewDLbmwFnY",
        "outputId": "02f71f06-c541-4638-c128-a7b9fe55b443"
      },
      "outputs": [
        {
          "data": {
            "image/png": "[encoded data removed]",
            "text/plain": [
              "<Figure size 1400x800 with 1 Axes>"
            ]
          },
          "metadata": {},
          "output_type": "display_data"
        }
      ],
      "source": [
        "plt.figure(figsize=(14, 8))\n",
        "pos = nx.spring_layout(G, k=2.0, seed=42)\n",
        "nx.draw(G, pos, with_labels=True, node_color='lightblue', node_size=3000, font_size=10, edge_color='gray', arrows=True)\n",
        "\n",
        "edge_labels = nx.get_edge_attributes(G, 'label')\n",
        "nx.draw_networkx_edge_labels(G, pos, edge_labels=edge_labels, font_color='darkred')\n",
        "\n",
        "plt.title(\"Knowledge Graph\", fontsize=14)\n",
        "plt.axis('off')\n",
        "plt.show()"
      ]
    },
    {
      "cell_type": "code",
      "execution_count": null,
      "metadata": {
        "colab": {
          "base_uri": "https://localhost:8080/",
          "height": 105
        },
        "id": "3gBQ9-Qz0ehu",
        "outputId": "579b85ab-ea21-463b-c62f-c739654bcc49"
      },
      "outputs": [
        {
          "data": {
            "application/vnd.google.colaboratory.intrinsic+json": {
              "type": "string"
            },
            "text/plain": [
              "'\"Here are the answers:\\\\n\\\\n**Task 1: Named Entity Recognition**\\\\n\\\\nSentence 1: (541, \\'In Siauliai : Kareda Siauliai ( Lithuania ) 0 Sion\\')\\\\n\\\\nEntities: (\\'Siauliai\\', \\'B-LOC\\') (\\'Kareda\\', \\'O\\') (\\'Siauliai\\', \\'I-LOC\\') (\\'Lithuania\\', \\'B-LOC\\') (\\'Sion\\', \\'O\\')\\\\n\\\\nSentence 2: (542, \\'( Switzerland ) 0\\')\\\\n\\\\nEntities: (\\'Switzerland\\', \\'B-MISC\\')\\\\n\\\\nSentence 3: (543, \\'Attendance : 5,000\\')\\\\n\\\\nEntities: (\\'Attendance\\', \\'O\\') (\\'5,000\\', \\'O\\')\\\\n\\\\nSentence 4: (544, \\'Sion win 4-2 on agrregate .\\')\\\\n\\\\nEntities: (\\'Sion\\', \\'O\\') (\\'win\\', \\'O\\') (\\'4-2\\', \\'O\\')\\\\n\\\\nSentence 5: (545, \\'In Vinnytsya :\\')\\\\n\\\\nEntities: (\\'Vinnytsya\\', \\'B-LOC\\')\\\\n\\\\nSentence 6: (546, \\'Nyva Vinnytsya ( Ukraine ) 1 Tallinna Sadam ( Estonia ) 0 ( 0-0 )\\')\\\\n\\\\nEntities: (\\'Nyva\\', \\'O\\') (\\'Vinnytsya\\', \\'I-LOC\\') (\\'Ukraine\\', \\'B-MISC\\') (\\'Tallinna Sadam\\', \\'O\\') (\\'Estonia\\', \\'B-MISC\\')\\\\n\\\\nSentence 7: (547, \\'Attendance : 3,000\\')\\\\n\\\\nEntities: (\\'Attendance\\', \\'O\\') (\\'3,000\\', \\'O\\')\\\\n\\\\nSentence 8: (548, \\'Aggregate score 2-2 .\\')\\\\n\\\\nEntities: (\\'Aggregate\\', \\'O\\') (\\'score\\', \\'O\\') (\\'2-2\\', \\'O\\')\\\\n\\\\nSentence 9: (549, \\'Nyva qualified on away goals rule .\\')\\\\n\\\\nEntities: (\\'Nyva\\', \\'O\\') (\\'qualified\\', \\'O\\')\\\\n\\\\nSentence 10: (550, \\'In Bergen : Brann ( Norway ) 2 Shelbourne ( Ireland ) 1 ( 1-1 )\\')\\\\n\\\\nEntities: (\\'Bergen\\', \\'B-LOC\\') (\\'Brann\\', \\'O\\') (\\'Norway\\', \\'B-MISC\\') (\\'Shelbourne\\', \\'O\\') (\\'Ireland\\', \\'B-MISC\\')\\\\n\\\\nSentence 11: (551, \\'Scorers :\\')\\\\n\\\\nEntities: (\\'Scorers\\', \\'O\\')\\\\n\\\\nSentence 12: (552, \\'Brann - Mons Ivar Mjelde ( 10th ) , Jan Ove Pedersen ( 72nd )\\')\\\\n\\\\nEntities: (\\'Brann\\', \\'O\\') (\\'Mons Ivar Mjelde\\', \\'O\\') (\\'Jan Ove Pedersen\\', \\'O\\')\\\\n\\\\nSentence 13: (553, \\'Shelbourne - Mark Rutherford ( 5th )\\')\\\\n\\\\nEntities: (\\'Shelbourne\\', \\'O\\') (\\'Mark Rutherford\\', \\'O\\')\\\\n\\\\nSentence 14: (554, \\'Attendance : 2,189\\')\\\\n\\\\nEntities: (\\'Attendance\\', \\'O\\') (\\'2,189\\', \\'O\\')\\\\n\\\\nSentence 15: (555, \\'Brann win 5-2 on aggregate\\')\\\\n\\\\nEntities: (\\'Brann\\', \\'O\\') (\\'win\\', \\'O\\')\\\\n\\\\nSentence 16: (556, \\'In Sofia : Levski Sofia ( Bulgaria ) 1 Olimpija ( Slovenia ) 0\\')\\\\n\\\\nEntities: (\\'Sofia\\', \\'B-LOC\\') (\\'Levski Sofia\\', \\'O\\') (\\'Bulgaria\\', \\'B-MISC\\') (\\'Olimpija\\', \\'O\\') (\\'Slovenia\\', \\'B-MISC\\')\\\\n\\\\nSentence 17: (557, \\'( 0-0 )\\')\\\\n\\\\nEntities: (\\'0-0\\', \\'O\\')\\\\n\\\\nSentence 18: (558, \\'Scorer : Ilian Simeonov ( 58th )\\')\\\\n\\\\nEntities: (\\'Scorer\\', \\'O\\') (\\'Ilian Simeonov\\', \\'O\\')\\\\n\\\\nSentence 19: (559, \\'Attendance : 25,000\\')\\\\n\\\\nEntities: (\\'Attendance\\', \\'O\\') (\\'25,000\\', \\'O\\')\\\\n\\\\nSentence 20: (560, \\'Aggregate 1-1 .\\')\\\\n\\\\nEntities: (\\'Aggregate\\', \\'O\\') (\\'1-1\\', \\'O\\')\\\\n\\\\n**Task 2: Relation Extraction**\\\\n\\\\nSentence 1: (541, \\'In Siauliai : Kareda Siauliai ( Lithuania ) 0 Sion\\')\\\\n\\\\nRelations: None\\\\n\\\\nSentence 2: (542, \\'( Switzerland ) 0\\')\\\\n\\\\nRelations: None\\\\n\\\\nSentence 3: (543, \\'Attendance : 5,000\\')\\\\n\\\\nRelations: None\\\\n\\\\nSentence 4: (544, \\'Sion win 4-2 on agrregate .\\')\\\\n\\\\nRelations: None\\\\n\\\\nSentence 5: (545, \\'In Vinnytsya :\\')\\\\n\\\\nRelations: None\\\\n\\\\nSentence 6: (546, \\'Nyva Vinnytsya ( Ukraine ) 1 Tallinna Sadam ( Estonia ) 0 ( 0-0 )\\')\\\\n\\\\nRelations: (\\'Nyva Vinnytsya\\', \\'1\\', \\'Tallinna Sadam\\')\\\\n\\\\nSentence 7: (547, \\'Attendance : 3,000\\')\\\\n\\\\nRelations: None\\\\n\\\\nSentence 8: (548, \\'Aggregate score 2-2 .\\')\\\\n\\\\nRelations: None\\\\n\\\\nSentence 9: (549, \\'Nyva qualified on away goals rule .\\')\\\\n\\\\nRelations: None\\\\n\\\\nSentence 10: (550, \\'In Bergen : Brann ( Norway ) 2 Shelbourne ( Ireland ) 1 ( 1-1 )\\')\\\\n\\\\nRelations: (\\'Brann\\', \\'2\\', \\'Shelbourne\\') (\\'Brann\\', \\'1\\', \\'Shelbourne\\')\\\\n\\\\nSentence 11: (551, \\'Scorers :\\')\\\\n\\\\nRelations: None\\\\n\\\\nSentence 12: (552, \\'Brann - Mons Ivar Mjelde ( 10th ) , Jan Ove Pedersen ( 72nd )\\')\\\\n\\\\nRelations: (\\'Brann\\', \\'Mons Ivar Mjelde\\') (\\'Brann\\', \\'Jan Ove Pedersen\\')\\\\n\\\\nSentence 13: (553, \\'Shelbourne - Mark Rutherford ( 5th )\\')\\\\n\\\\nRelations: (\\'Shelbourne\\', \\'Mark Rutherford\\')\\\\n\\\\nSentence 14: (554, \\'Attendance : 2,189\\')\\\\n\\\\nRelations: None\\\\n\\\\nSentence 15: (555, \\'Brann win 5-2 on aggregate\\')\\\\n\\\\nRelations: (\\'Brann\\', \\'win\\', \\'aggregate\\')\\\\n\\\\nSentence 16: (556, \\'In Sofia : Levski Sofia ( Bulgaria ) 1 Olimpija ( Slovenia ) 0\\')\\\\n\\\\nRelations: (\\'Levski Sofia\\', \\'1\\', \\'Olimpija\\')\\\\n\\\\nSentence 17: (557, \\'( 0-0 )\\')\\\\n\\\\nRelations: None\\\\n\\\\nSentence 18: (558, \\'Scorer : Ilian Simeonov ( 58th )\\')\\\\n\\\\nRelations: (\\'Ilian Simeonov\\', \\'Scorer\\')\\\\n\\\\nSentence 19: (559, \\'Attendance : 25,000\\')\\\\n\\\\nRelations: None\\\\n\\\\nSentence 20: (560, \\'Aggregate 1-1 .\\')\\\\n\\\\nRelations: None\\\\n\\\\n**Output**\\\\n\\\\nSentence 1: (541, \\'In Siauliai : Kareda Siauliai ( Lithuania ) 0 Sion\\')\\\\n\\\\nEntities: (\\'Siauliai\\', \\'B-LOC\\') (\\'Kareda\\', \\'O\\') (\\'Siauliai\\', \\'I-LOC\\') (\\'Lithuania\\', \\'B-LOC\\') (\\'Sion\\', \\'O\\')\\\\n\\\\nRelations: None\\\\n\\\\nSentence 2: (542, \\'( Switzerland ) 0\\')\\\\n\\\\nEntities: (\\'Switzerland\\', \\'B-MISC\\')\\\\n\\\\nRelations: None\\\\n\\\\n... (and so on for each sentence)\\\\n\\\\nLet me know if you\\'d like me to format the output differently!\"'"
            ]
          },
          "execution_count": 62,
          "metadata": {},
          "output_type": "execute_result"
        }
      ],
      "source": [
        "texts[0]"
      ]
    },
    {
      "cell_type": "markdown",
      "metadata": {
        "id": "lKBNtSdnWPul"
      },
      "source": [
        "## Classification metrics"
      ]
    },
    {
      "cell_type": "markdown",
      "metadata": {
        "id": "M-44KQUiAXJY"
      },
      "source": [
        "To evaluate classification metrics we have got to relabel spacy's annotation for it to be identical with CoNLL's one. We will begin with creating a new dataframe on previous spacy's dataframe basis. It exploits offsets_to_biluo_tags and then biluo_to_iob methods to get BIO-annotation that is used in initial CoNLL dataset."
      ]
    },
    {
      "cell_type": "code",
      "source": [
        "df_LLM = df"
      ],
      "metadata": {
        "id": "GfXMP-d86dFK"
      },
      "execution_count": 115,
      "outputs": []
    },
    {
      "cell_type": "code",
      "execution_count": 117,
      "metadata": {
        "colab": {
          "base_uri": "https://localhost:8080/"
        },
        "id": "nRduGjrRT_Lx",
        "outputId": "044c5b79-946e-48c4-ef49-0976158ae7a6"
      },
      "outputs": [
        {
          "output_type": "execute_result",
          "data": {
            "text/plain": [
              "array(['B-PER', 'O', 'B-LOC', 'B-ORG', 'B-MISC', 'I-MISC', 'I-PER',\n",
              "       'I-ORG', 'I-LOC'], dtype=object)"
            ]
          },
          "metadata": {},
          "execution_count": 117
        }
      ],
      "source": [
        "df_LLM.Label.unique()"
      ]
    },
    {
      "cell_type": "code",
      "execution_count": 118,
      "metadata": {
        "colab": {
          "base_uri": "https://localhost:8080/"
        },
        "id": "n7KnYU3Q6fVA",
        "outputId": "861bda8f-d0c6-47bf-ead5-fb617a4e4410"
      },
      "outputs": [
        {
          "output_type": "execute_result",
          "data": {
            "text/plain": [
              "array(['B-ORG', 'O', 'B-MISC', 'B-PER', 'I-PER', 'B-LOC', 'I-ORG',\n",
              "       'I-MISC', 'I-LOC'], dtype=object)"
            ]
          },
          "metadata": {},
          "execution_count": 118
        }
      ],
      "source": [
        "df_conll.Label.unique()"
      ]
    },
    {
      "cell_type": "markdown",
      "metadata": {
        "id": "QGUzPD2JCEzJ"
      },
      "source": [
        "All annotations are correspondent."
      ]
    },
    {
      "cell_type": "markdown",
      "metadata": {
        "id": "GCTsKKFOVwnb"
      },
      "source": [
        "Let's merge the datasets and find the metrics."
      ]
    },
    {
      "cell_type": "code",
      "source": [
        "df_LLM = df_LLM.rename(columns={'Label': 'Label_LLM', 'Sentence_id': 'Sentence_ID'})"
      ],
      "metadata": {
        "id": "LhtKsM9l6xef"
      },
      "execution_count": 124,
      "outputs": []
    },
    {
      "cell_type": "code",
      "execution_count": 125,
      "metadata": {
        "colab": {
          "base_uri": "https://localhost:8080/"
        },
        "id": "antujClxCPOQ",
        "outputId": "ec0f08a9-dfcd-44b8-9200-9c1f98ee1877"
      },
      "outputs": [
        {
          "output_type": "stream",
          "name": "stdout",
          "text": [
            "Precision: 0.6866\n",
            "Recall: 0.6534\n",
            "F1: 0.6691\n"
          ]
        }
      ],
      "source": [
        "merged_df = pd.merge(df_conll, df_LLM, on=['Sentence_ID'], how='inner')\n",
        "\n",
        "precision = precision_score(merged_df['Label'], merged_df['Label_LLM'], average='weighted')\n",
        "recall = recall_score(merged_df['Label'], merged_df['Label_LLM'], average='weighted')\n",
        "f1 = f1_score(merged_df['Label'], merged_df['Label_LLM'], average='weighted')\n",
        "\n",
        "print(f\"Precision: {precision:.4f}\")\n",
        "print(f\"Recall: {recall:.4f}\")\n",
        "print(f\"F1: {f1:.4f}\")"
      ]
    }
  ],
  "metadata": {
    "colab": {
      "provenance": [],
      "toc_visible": true,
      "mount_file_id": "1EZbUyB6SU0LqIKg5AhgnqlOvNf_jlY4h",
      "authorship_tag": "ABX9TyOGTzhte77BJdY5oNLncgKD",
      "include_colab_link": true
    },
    "kernelspec": {
      "display_name": "Python 3",
      "name": "python3"
    },
    "language_info": {
      "name": "python"
    }
  },
  "nbformat": 4,
  "nbformat_minor": 0
}